{
 "cells": [
  {
   "cell_type": "markdown",
   "id": "driven-marking",
   "metadata": {},
   "source": [
    "Detail dari dataset hari ini bisa dibaca di:  \n",
    "https://www.kaggle.com/arashnic/hr-analytics-job-change-of-data-scientists?select=aug_train.csv  \n",
    "\n",
    "Buatlah EDA mengenai demografis calon karyawan dan hubungannya dengan kemungkinan mereka bekerja di perusahaan yg menyediakan training!  \n",
    "\n",
    "Setelah selasai, upload hasil analisis kalian ke Github kalian masing-masing dan kirimkan link github kalian ke brigita.gems@gmail.com untuk feedback."
   ]
  },
  {
   "cell_type": "code",
   "execution_count": 1,
   "id": "protected-northwest",
   "metadata": {},
   "outputs": [],
   "source": [
    "import pandas as pd\n",
    "import numpy as np\n",
    "import seaborn as sns\n",
    "import matplotlib.pyplot as plt"
   ]
  },
  {
   "cell_type": "code",
   "execution_count": 15,
   "id": "appropriate-settlement",
   "metadata": {},
   "outputs": [
    {
     "data": {
      "text/html": [
       "<div>\n",
       "<style scoped>\n",
       "    .dataframe tbody tr th:only-of-type {\n",
       "        vertical-align: middle;\n",
       "    }\n",
       "\n",
       "    .dataframe tbody tr th {\n",
       "        vertical-align: top;\n",
       "    }\n",
       "\n",
       "    .dataframe thead th {\n",
       "        text-align: right;\n",
       "    }\n",
       "</style>\n",
       "<table border=\"1\" class=\"dataframe\">\n",
       "  <thead>\n",
       "    <tr style=\"text-align: right;\">\n",
       "      <th></th>\n",
       "      <th>enrollee_id</th>\n",
       "      <th>city</th>\n",
       "      <th>city_development_index</th>\n",
       "      <th>gender</th>\n",
       "      <th>relevent_experience</th>\n",
       "      <th>enrolled_university</th>\n",
       "      <th>education_level</th>\n",
       "      <th>major_discipline</th>\n",
       "      <th>experience</th>\n",
       "      <th>company_size</th>\n",
       "      <th>company_type</th>\n",
       "      <th>last_new_job</th>\n",
       "      <th>training_hours</th>\n",
       "      <th>target</th>\n",
       "    </tr>\n",
       "  </thead>\n",
       "  <tbody>\n",
       "    <tr>\n",
       "      <th>0</th>\n",
       "      <td>8949</td>\n",
       "      <td>city_103</td>\n",
       "      <td>0.920</td>\n",
       "      <td>Male</td>\n",
       "      <td>Has relevent experience</td>\n",
       "      <td>no_enrollment</td>\n",
       "      <td>Graduate</td>\n",
       "      <td>STEM</td>\n",
       "      <td>&gt;20</td>\n",
       "      <td>NaN</td>\n",
       "      <td>NaN</td>\n",
       "      <td>1</td>\n",
       "      <td>36</td>\n",
       "      <td>1.0</td>\n",
       "    </tr>\n",
       "    <tr>\n",
       "      <th>1</th>\n",
       "      <td>29725</td>\n",
       "      <td>city_40</td>\n",
       "      <td>0.776</td>\n",
       "      <td>Male</td>\n",
       "      <td>No relevent experience</td>\n",
       "      <td>no_enrollment</td>\n",
       "      <td>Graduate</td>\n",
       "      <td>STEM</td>\n",
       "      <td>15</td>\n",
       "      <td>50-99</td>\n",
       "      <td>Pvt Ltd</td>\n",
       "      <td>&gt;4</td>\n",
       "      <td>47</td>\n",
       "      <td>0.0</td>\n",
       "    </tr>\n",
       "    <tr>\n",
       "      <th>2</th>\n",
       "      <td>11561</td>\n",
       "      <td>city_21</td>\n",
       "      <td>0.624</td>\n",
       "      <td>NaN</td>\n",
       "      <td>No relevent experience</td>\n",
       "      <td>Full time course</td>\n",
       "      <td>Graduate</td>\n",
       "      <td>STEM</td>\n",
       "      <td>5</td>\n",
       "      <td>NaN</td>\n",
       "      <td>NaN</td>\n",
       "      <td>never</td>\n",
       "      <td>83</td>\n",
       "      <td>0.0</td>\n",
       "    </tr>\n",
       "    <tr>\n",
       "      <th>3</th>\n",
       "      <td>33241</td>\n",
       "      <td>city_115</td>\n",
       "      <td>0.789</td>\n",
       "      <td>NaN</td>\n",
       "      <td>No relevent experience</td>\n",
       "      <td>NaN</td>\n",
       "      <td>Graduate</td>\n",
       "      <td>Business Degree</td>\n",
       "      <td>&lt;1</td>\n",
       "      <td>NaN</td>\n",
       "      <td>Pvt Ltd</td>\n",
       "      <td>never</td>\n",
       "      <td>52</td>\n",
       "      <td>1.0</td>\n",
       "    </tr>\n",
       "    <tr>\n",
       "      <th>4</th>\n",
       "      <td>666</td>\n",
       "      <td>city_162</td>\n",
       "      <td>0.767</td>\n",
       "      <td>Male</td>\n",
       "      <td>Has relevent experience</td>\n",
       "      <td>no_enrollment</td>\n",
       "      <td>Masters</td>\n",
       "      <td>STEM</td>\n",
       "      <td>&gt;20</td>\n",
       "      <td>50-99</td>\n",
       "      <td>Funded Startup</td>\n",
       "      <td>4</td>\n",
       "      <td>8</td>\n",
       "      <td>0.0</td>\n",
       "    </tr>\n",
       "    <tr>\n",
       "      <th>...</th>\n",
       "      <td>...</td>\n",
       "      <td>...</td>\n",
       "      <td>...</td>\n",
       "      <td>...</td>\n",
       "      <td>...</td>\n",
       "      <td>...</td>\n",
       "      <td>...</td>\n",
       "      <td>...</td>\n",
       "      <td>...</td>\n",
       "      <td>...</td>\n",
       "      <td>...</td>\n",
       "      <td>...</td>\n",
       "      <td>...</td>\n",
       "      <td>...</td>\n",
       "    </tr>\n",
       "    <tr>\n",
       "      <th>19153</th>\n",
       "      <td>7386</td>\n",
       "      <td>city_173</td>\n",
       "      <td>0.878</td>\n",
       "      <td>Male</td>\n",
       "      <td>No relevent experience</td>\n",
       "      <td>no_enrollment</td>\n",
       "      <td>Graduate</td>\n",
       "      <td>Humanities</td>\n",
       "      <td>14</td>\n",
       "      <td>NaN</td>\n",
       "      <td>NaN</td>\n",
       "      <td>1</td>\n",
       "      <td>42</td>\n",
       "      <td>1.0</td>\n",
       "    </tr>\n",
       "    <tr>\n",
       "      <th>19154</th>\n",
       "      <td>31398</td>\n",
       "      <td>city_103</td>\n",
       "      <td>0.920</td>\n",
       "      <td>Male</td>\n",
       "      <td>Has relevent experience</td>\n",
       "      <td>no_enrollment</td>\n",
       "      <td>Graduate</td>\n",
       "      <td>STEM</td>\n",
       "      <td>14</td>\n",
       "      <td>NaN</td>\n",
       "      <td>NaN</td>\n",
       "      <td>4</td>\n",
       "      <td>52</td>\n",
       "      <td>1.0</td>\n",
       "    </tr>\n",
       "    <tr>\n",
       "      <th>19155</th>\n",
       "      <td>24576</td>\n",
       "      <td>city_103</td>\n",
       "      <td>0.920</td>\n",
       "      <td>Male</td>\n",
       "      <td>Has relevent experience</td>\n",
       "      <td>no_enrollment</td>\n",
       "      <td>Graduate</td>\n",
       "      <td>STEM</td>\n",
       "      <td>&gt;20</td>\n",
       "      <td>50-99</td>\n",
       "      <td>Pvt Ltd</td>\n",
       "      <td>4</td>\n",
       "      <td>44</td>\n",
       "      <td>0.0</td>\n",
       "    </tr>\n",
       "    <tr>\n",
       "      <th>19156</th>\n",
       "      <td>5756</td>\n",
       "      <td>city_65</td>\n",
       "      <td>0.802</td>\n",
       "      <td>Male</td>\n",
       "      <td>Has relevent experience</td>\n",
       "      <td>no_enrollment</td>\n",
       "      <td>High School</td>\n",
       "      <td>NaN</td>\n",
       "      <td>&lt;1</td>\n",
       "      <td>500-999</td>\n",
       "      <td>Pvt Ltd</td>\n",
       "      <td>2</td>\n",
       "      <td>97</td>\n",
       "      <td>0.0</td>\n",
       "    </tr>\n",
       "    <tr>\n",
       "      <th>19157</th>\n",
       "      <td>23834</td>\n",
       "      <td>city_67</td>\n",
       "      <td>0.855</td>\n",
       "      <td>NaN</td>\n",
       "      <td>No relevent experience</td>\n",
       "      <td>no_enrollment</td>\n",
       "      <td>Primary School</td>\n",
       "      <td>NaN</td>\n",
       "      <td>2</td>\n",
       "      <td>NaN</td>\n",
       "      <td>NaN</td>\n",
       "      <td>1</td>\n",
       "      <td>127</td>\n",
       "      <td>0.0</td>\n",
       "    </tr>\n",
       "  </tbody>\n",
       "</table>\n",
       "<p>19158 rows × 14 columns</p>\n",
       "</div>"
      ],
      "text/plain": [
       "       enrollee_id      city  city_development_index gender  \\\n",
       "0             8949  city_103                   0.920   Male   \n",
       "1            29725   city_40                   0.776   Male   \n",
       "2            11561   city_21                   0.624    NaN   \n",
       "3            33241  city_115                   0.789    NaN   \n",
       "4              666  city_162                   0.767   Male   \n",
       "...            ...       ...                     ...    ...   \n",
       "19153         7386  city_173                   0.878   Male   \n",
       "19154        31398  city_103                   0.920   Male   \n",
       "19155        24576  city_103                   0.920   Male   \n",
       "19156         5756   city_65                   0.802   Male   \n",
       "19157        23834   city_67                   0.855    NaN   \n",
       "\n",
       "           relevent_experience enrolled_university education_level  \\\n",
       "0      Has relevent experience       no_enrollment        Graduate   \n",
       "1       No relevent experience       no_enrollment        Graduate   \n",
       "2       No relevent experience    Full time course        Graduate   \n",
       "3       No relevent experience                 NaN        Graduate   \n",
       "4      Has relevent experience       no_enrollment         Masters   \n",
       "...                        ...                 ...             ...   \n",
       "19153   No relevent experience       no_enrollment        Graduate   \n",
       "19154  Has relevent experience       no_enrollment        Graduate   \n",
       "19155  Has relevent experience       no_enrollment        Graduate   \n",
       "19156  Has relevent experience       no_enrollment     High School   \n",
       "19157   No relevent experience       no_enrollment  Primary School   \n",
       "\n",
       "      major_discipline experience company_size    company_type last_new_job  \\\n",
       "0                 STEM        >20          NaN             NaN            1   \n",
       "1                 STEM         15        50-99         Pvt Ltd           >4   \n",
       "2                 STEM          5          NaN             NaN        never   \n",
       "3      Business Degree         <1          NaN         Pvt Ltd        never   \n",
       "4                 STEM        >20        50-99  Funded Startup            4   \n",
       "...                ...        ...          ...             ...          ...   \n",
       "19153       Humanities         14          NaN             NaN            1   \n",
       "19154             STEM         14          NaN             NaN            4   \n",
       "19155             STEM        >20        50-99         Pvt Ltd            4   \n",
       "19156              NaN         <1      500-999         Pvt Ltd            2   \n",
       "19157              NaN          2          NaN             NaN            1   \n",
       "\n",
       "       training_hours  target  \n",
       "0                  36     1.0  \n",
       "1                  47     0.0  \n",
       "2                  83     0.0  \n",
       "3                  52     1.0  \n",
       "4                   8     0.0  \n",
       "...               ...     ...  \n",
       "19153              42     1.0  \n",
       "19154              52     1.0  \n",
       "19155              44     0.0  \n",
       "19156              97     0.0  \n",
       "19157             127     0.0  \n",
       "\n",
       "[19158 rows x 14 columns]"
      ]
     },
     "execution_count": 15,
     "metadata": {},
     "output_type": "execute_result"
    }
   ],
   "source": [
    "df=pd.read_csv('hr-analytic.csv')\n",
    "df"
   ]
  },
  {
   "cell_type": "code",
   "execution_count": 16,
   "id": "satellite-closure",
   "metadata": {},
   "outputs": [
    {
     "name": "stdout",
     "output_type": "stream",
     "text": [
      "<class 'pandas.core.frame.DataFrame'>\n",
      "RangeIndex: 19158 entries, 0 to 19157\n",
      "Data columns (total 14 columns):\n",
      " #   Column                  Non-Null Count  Dtype  \n",
      "---  ------                  --------------  -----  \n",
      " 0   enrollee_id             19158 non-null  int64  \n",
      " 1   city                    19158 non-null  object \n",
      " 2   city_development_index  19158 non-null  float64\n",
      " 3   gender                  14650 non-null  object \n",
      " 4   relevent_experience     19158 non-null  object \n",
      " 5   enrolled_university     18772 non-null  object \n",
      " 6   education_level         18698 non-null  object \n",
      " 7   major_discipline        16345 non-null  object \n",
      " 8   experience              19093 non-null  object \n",
      " 9   company_size            13220 non-null  object \n",
      " 10  company_type            13018 non-null  object \n",
      " 11  last_new_job            18735 non-null  object \n",
      " 12  training_hours          19158 non-null  int64  \n",
      " 13  target                  19158 non-null  float64\n",
      "dtypes: float64(2), int64(2), object(10)\n",
      "memory usage: 2.0+ MB\n"
     ]
    }
   ],
   "source": [
    "df.info()"
   ]
  },
  {
   "cell_type": "markdown",
   "id": "developmental-endorsement",
   "metadata": {},
   "source": [
    "Features:\n",
    "- enrollee_id : Unique ID for candidate\n",
    "\n",
    "- city: City code\n",
    "\n",
    "- city_ development _index : Developement index of the city (scaled)\n",
    "\n",
    "- gender: Gender of candidate\n",
    "\n",
    "- relevent_experience: Relevant experience of candidate\n",
    "\n",
    "- enrolled_university: Type of University course enrolled if any\n",
    "\n",
    "- education_level: Education level of candidate\n",
    "\n",
    "- major_discipline :Education major discipline of candidate\n",
    "\n",
    "- experience: Candidate total experience in years\n",
    "\n",
    "- company_size: No of employees in current employer's company\n",
    "\n",
    "- company_type : Type of current employer\n",
    "\n",
    "- lastnewjob: Difference in years between previous job and current job\n",
    "\n",
    "- training_hours: training hours completed\n",
    "\n",
    "- target: 0 – Not looking for job change, 1 – Looking for a job change"
   ]
  },
  {
   "cell_type": "code",
   "execution_count": 17,
   "id": "explicit-hygiene",
   "metadata": {},
   "outputs": [
    {
     "data": {
      "text/plain": [
       "enrollee_id                  0\n",
       "city                         0\n",
       "city_development_index       0\n",
       "gender                    4508\n",
       "relevent_experience          0\n",
       "enrolled_university        386\n",
       "education_level            460\n",
       "major_discipline          2813\n",
       "experience                  65\n",
       "company_size              5938\n",
       "company_type              6140\n",
       "last_new_job               423\n",
       "training_hours               0\n",
       "target                       0\n",
       "dtype: int64"
      ]
     },
     "execution_count": 17,
     "metadata": {},
     "output_type": "execute_result"
    }
   ],
   "source": [
    "df.isna().sum()"
   ]
  },
  {
   "cell_type": "code",
   "execution_count": 18,
   "id": "pacific-tolerance",
   "metadata": {},
   "outputs": [
    {
     "data": {
      "text/plain": [
       "0.0    14381\n",
       "1.0     4777\n",
       "Name: target, dtype: int64"
      ]
     },
     "execution_count": 18,
     "metadata": {},
     "output_type": "execute_result"
    }
   ],
   "source": [
    "df['target'].value_counts()"
   ]
  },
  {
   "cell_type": "code",
   "execution_count": 19,
   "id": "desperate-ballet",
   "metadata": {},
   "outputs": [],
   "source": [
    "df.dropna(subset=['enrolled_university','education_level','experience','last_new_job'], axis=0, inplace=True)"
   ]
  },
  {
   "cell_type": "code",
   "execution_count": 20,
   "id": "announced-planet",
   "metadata": {},
   "outputs": [],
   "source": [
    "col_mode = ['gender','company_size','major_discipline','company_type','relevent_experience']\n",
    "for col in col_mode:\n",
    "    df[col].fillna(df[col].mode()[0],inplace=True)"
   ]
  },
  {
   "cell_type": "code",
   "execution_count": 21,
   "id": "atlantic-portugal",
   "metadata": {},
   "outputs": [
    {
     "name": "stdout",
     "output_type": "stream",
     "text": [
      "<class 'pandas.core.frame.DataFrame'>\n",
      "Int64Index: 18014 entries, 0 to 19157\n",
      "Data columns (total 14 columns):\n",
      " #   Column                  Non-Null Count  Dtype  \n",
      "---  ------                  --------------  -----  \n",
      " 0   enrollee_id             18014 non-null  int64  \n",
      " 1   city                    18014 non-null  object \n",
      " 2   city_development_index  18014 non-null  float64\n",
      " 3   gender                  18014 non-null  object \n",
      " 4   relevent_experience     18014 non-null  object \n",
      " 5   enrolled_university     18014 non-null  object \n",
      " 6   education_level         18014 non-null  object \n",
      " 7   major_discipline        18014 non-null  object \n",
      " 8   experience              18014 non-null  object \n",
      " 9   company_size            18014 non-null  object \n",
      " 10  company_type            18014 non-null  object \n",
      " 11  last_new_job            18014 non-null  object \n",
      " 12  training_hours          18014 non-null  int64  \n",
      " 13  target                  18014 non-null  float64\n",
      "dtypes: float64(2), int64(2), object(10)\n",
      "memory usage: 2.1+ MB\n"
     ]
    }
   ],
   "source": [
    "df.info()"
   ]
  },
  {
   "cell_type": "markdown",
   "id": "reasonable-happening",
   "metadata": {},
   "source": [
    "#### Gender"
   ]
  },
  {
   "cell_type": "code",
   "execution_count": 52,
   "id": "front-assembly",
   "metadata": {},
   "outputs": [
    {
     "data": {
      "text/plain": [
       "<AxesSubplot:xlabel='gender', ylabel='count'>"
      ]
     },
     "execution_count": 52,
     "metadata": {},
     "output_type": "execute_result"
    },
    {
     "data": {
      "image/png": "[encoded data removed]",
      "text/plain": [
       "<Figure size 432x288 with 1 Axes>"
      ]
     },
     "metadata": {
      "needs_background": "light"
     },
     "output_type": "display_data"
    }
   ],
   "source": [
    "sns.countplot(df['gender'], hue =df['target'])"
   ]
  },
  {
   "cell_type": "code",
   "execution_count": 29,
   "id": "computational-stretch",
   "metadata": {},
   "outputs": [
    {
     "data": {
      "text/plain": [
       "Text(0.5, 1.0, 'Persentase Gender yang Mencari Pekerjaan Baru')"
      ]
     },
     "execution_count": 29,
     "metadata": {},
     "output_type": "execute_result"
    },
    {
     "data": {
      "image/png": "[encoded data removed]",
      "text/plain": [
       "<Figure size 720x720 with 1 Axes>"
      ]
     },
     "metadata": {},
     "output_type": "display_data"
    }
   ],
   "source": [
    "plt.figure(figsize=(10,10))\n",
    "gender = df[df['target'] == 1]['gender']\n",
    "temp = gender.value_counts()\n",
    "labels = temp.keys()\n",
    "plt.pie(x = temp, labels = labels , colors = ['blue','yellow','red'], autopct=\"%.2f%%\",pctdistance=0.7)\n",
    "plt.title('Persentase Gender yang Mencari Pekerjaan Baru', fontsize=20)"
   ]
  },
  {
   "cell_type": "markdown",
   "id": "informed-greenhouse",
   "metadata": {},
   "source": [
    "Kemungkinan pria untuk keluar jauh lebih tinggi dibanding wanita. Akan tetapi hal ini bisa dikarenakan diskrepansi data gender itu sendiri."
   ]
  },
  {
   "cell_type": "code",
   "execution_count": 30,
   "id": "vertical-twelve",
   "metadata": {},
   "outputs": [
    {
     "data": {
      "text/plain": [
       "Male      16635\n",
       "Female     1206\n",
       "Other       173\n",
       "Name: gender, dtype: int64"
      ]
     },
     "execution_count": 30,
     "metadata": {},
     "output_type": "execute_result"
    }
   ],
   "source": [
    "df['gender'].value_counts()"
   ]
  },
  {
   "cell_type": "code",
   "execution_count": 31,
   "id": "scenic-adolescent",
   "metadata": {},
   "outputs": [
    {
     "data": {
      "text/plain": [
       "Male      4064\n",
       "Female     313\n",
       "Other       44\n",
       "Name: gender, dtype: int64"
      ]
     },
     "execution_count": 31,
     "metadata": {},
     "output_type": "execute_result"
    }
   ],
   "source": [
    "gender = df[df['target'] == 1]['gender']\n",
    "gender.value_counts()"
   ]
  },
  {
   "cell_type": "code",
   "execution_count": 54,
   "id": "modular-choir",
   "metadata": {},
   "outputs": [
    {
     "data": {
      "text/plain": [
       "Male      24.430418\n",
       "Female    25.953566\n",
       "Other     25.433526\n",
       "Name: gender, dtype: float64"
      ]
     },
     "execution_count": 54,
     "metadata": {},
     "output_type": "execute_result"
    }
   ],
   "source": [
    "gender.value_counts()/df['gender'].value_counts()*100"
   ]
  },
  {
   "cell_type": "markdown",
   "id": "through-deviation",
   "metadata": {},
   "source": [
    "Hasil di atas menunjukkan sebanyak 24-25% dari tiap gender akan keluar. Oleh karena itu, gender bukan faktor utama dalam penentuan seseorang akan keluar atau tidak."
   ]
  },
  {
   "cell_type": "markdown",
   "id": "modular-links",
   "metadata": {},
   "source": [
    "#### City Development Index"
   ]
  },
  {
   "cell_type": "code",
   "execution_count": 41,
   "id": "nervous-tumor",
   "metadata": {},
   "outputs": [
    {
     "data": {
      "text/plain": [
       "<AxesSubplot:xlabel='target', ylabel='city_development_index'>"
      ]
     },
     "execution_count": 41,
     "metadata": {},
     "output_type": "execute_result"
    },
    {
     "data": {
      "image/png": "[encoded data removed]",
      "text/plain": [
       "<Figure size 432x288 with 1 Axes>"
      ]
     },
     "metadata": {
      "needs_background": "light"
     },
     "output_type": "display_data"
    }
   ],
   "source": [
    "sns.boxplot(data=df,x='target',y='city_development_index')"
   ]
  },
  {
   "cell_type": "markdown",
   "id": "numerical-dublin",
   "metadata": {},
   "source": [
    " - Kebanyakan kandidat yang stay berasal dari kota dengan development index di range 0.8 - 0.9, sedangkan kandidat yang keluar berasal dari kota dengan development index 0.6 - 0.9\n",
    " - Kemungkinan kandidat yang diprediksi akan keluar berasal dari kota dengan development index di bawah 0.8 karena ingin mencari kenyamanan bekerja di kota dengan development index tinggi"
   ]
  },
  {
   "cell_type": "markdown",
   "id": "alien-issue",
   "metadata": {},
   "source": [
    "#### Relevant Experience"
   ]
  },
  {
   "cell_type": "code",
   "execution_count": 48,
   "id": "municipal-differential",
   "metadata": {},
   "outputs": [
    {
     "name": "stderr",
     "output_type": "stream",
     "text": [
      "/Users/marshaalexandra/opt/anaconda3/lib/python3.8/site-packages/seaborn/_decorators.py:36: FutureWarning: Pass the following variable as a keyword arg: x. From version 0.12, the only valid positional argument will be `data`, and passing other arguments without an explicit keyword will result in an error or misinterpretation.\n",
      "  warnings.warn(\n"
     ]
    },
    {
     "data": {
      "text/plain": [
       "Text(0.5, 1.0, 'Pengalaman Kerja berdasarkan Target')"
      ]
     },
     "execution_count": 48,
     "metadata": {},
     "output_type": "execute_result"
    },
    {
     "data": {
      "image/png": "[encoded data removed]",
      "text/plain": [
       "<Figure size 432x288 with 1 Axes>"
      ]
     },
     "metadata": {
      "needs_background": "light"
     },
     "output_type": "display_data"
    }
   ],
   "source": [
    "sns.countplot(df['relevent_experience'],hue=df['target'])\n",
    "plt.xlabel('target')\n",
    "plt.ylabel('count')\n",
    "plt.title('Pengalaman Kerja berdasarkan Target')"
   ]
  },
  {
   "cell_type": "code",
   "execution_count": 49,
   "id": "noticed-church",
   "metadata": {},
   "outputs": [
    {
     "data": {
      "text/plain": [
       "Has relevent experience    21.015921\n",
       "No relevent experience     34.183250\n",
       "Name: relevent_experience, dtype: float64"
      ]
     },
     "execution_count": 49,
     "metadata": {},
     "output_type": "execute_result"
    }
   ],
   "source": [
    "exp_target = df[df['target'] == 1]['relevent_experience']\n",
    "\n",
    "exp_target.value_counts()/df['relevent_experience'].value_counts()*100"
   ]
  },
  {
   "cell_type": "markdown",
   "id": "lovely-reward",
   "metadata": {},
   "source": [
    "Dari data di atas, kandidat yang tidak punya relevant experience punya kecenderungan lebih besar untuk keluar dibanding kandidat yang punya relevant experience. Hal ini kemungkinan dikarenakan kandidat yang tidak punya relevant experience dapat pengalaman baru selama training yang membuat mereka tertarik untuk keluar dan bekerja di perusahaan tempat mereka training."
   ]
  },
  {
   "cell_type": "markdown",
   "id": "median-waters",
   "metadata": {},
   "source": [
    "#### Education Level"
   ]
  },
  {
   "cell_type": "code",
   "execution_count": 63,
   "id": "burning-malta",
   "metadata": {},
   "outputs": [
    {
     "name": "stderr",
     "output_type": "stream",
     "text": [
      "/Users/marshaalexandra/opt/anaconda3/lib/python3.8/site-packages/seaborn/_decorators.py:36: FutureWarning: Pass the following variable as a keyword arg: x. From version 0.12, the only valid positional argument will be `data`, and passing other arguments without an explicit keyword will result in an error or misinterpretation.\n",
      "  warnings.warn(\n"
     ]
    },
    {
     "data": {
      "text/plain": [
       "Text(0.5, 1.0, 'Level Pendidikan berdasarkan Target')"
      ]
     },
     "execution_count": 63,
     "metadata": {},
     "output_type": "execute_result"
    },
    {
     "data": {
      "image/png": "[encoded data removed]",
      "text/plain": [
       "<Figure size 432x288 with 1 Axes>"
      ]
     },
     "metadata": {
      "needs_background": "light"
     },
     "output_type": "display_data"
    }
   ],
   "source": [
    "sns.countplot(df['education_level'], hue=df['target'])\n",
    "plt.xlabel('target')\n",
    "plt.ylabel('count')\n",
    "plt.title('Level Pendidikan berdasarkan Target')"
   ]
  },
  {
   "cell_type": "code",
   "execution_count": 62,
   "id": "clinical-saskatchewan",
   "metadata": {},
   "outputs": [
    {
     "data": {
      "text/plain": [
       "Graduate          27.466929\n",
       "Masters           20.908231\n",
       "High School       19.496855\n",
       "Phd               13.784461\n",
       "Primary School    12.714777\n",
       "Name: education_level, dtype: float64"
      ]
     },
     "execution_count": 62,
     "metadata": {},
     "output_type": "execute_result"
    }
   ],
   "source": [
    "edu_target = df[df['target'] == 1]['education_level']\n",
    "\n",
    "edu_target.value_counts()/df['education_level'].value_counts()*100"
   ]
  },
  {
   "cell_type": "markdown",
   "id": "technical-classroom",
   "metadata": {},
   "source": [
    "Kecenderungan kandidat keluar paling besar ada di kandidat yang sudah menyelesaikan S1 dan S2. Ada kecenderungan tingkat pendidikan yang tinggi membuat kandidat lebih mudah keluar karena dengan tingkat pendidikan yang tinggi, kandidat punya kapabilitas untuk mencari pekerjaan/perusahaan dibandingkan kandidat dengan tingkat pendidikan rendah."
   ]
  },
  {
   "cell_type": "markdown",
   "id": "destroyed-ebony",
   "metadata": {},
   "source": [
    "#### Major Discipline"
   ]
  },
  {
   "cell_type": "code",
   "execution_count": 75,
   "id": "italian-month",
   "metadata": {},
   "outputs": [
    {
     "name": "stderr",
     "output_type": "stream",
     "text": [
      "/Users/marshaalexandra/opt/anaconda3/lib/python3.8/site-packages/seaborn/_decorators.py:36: FutureWarning: Pass the following variable as a keyword arg: x. From version 0.12, the only valid positional argument will be `data`, and passing other arguments without an explicit keyword will result in an error or misinterpretation.\n",
      "  warnings.warn(\n"
     ]
    },
    {
     "data": {
      "text/plain": [
       "Text(0.5, 1.0, 'Jurusan Utama berdasarkan Target')"
      ]
     },
     "execution_count": 75,
     "metadata": {},
     "output_type": "execute_result"
    },
    {
     "data": {
      "image/png": "[encoded data removed]",
      "text/plain": [
       "<Figure size 720x360 with 1 Axes>"
      ]
     },
     "metadata": {},
     "output_type": "display_data"
    }
   ],
   "source": [
    "plt.figure(figsize =(10,5))\n",
    "sns.countplot(df['major_discipline'],hue=df['target'])\n",
    "plt.xlabel('target')\n",
    "plt.ylabel('count')\n",
    "plt.title('Jurusan Utama berdasarkan Target')"
   ]
  },
  {
   "cell_type": "code",
   "execution_count": 67,
   "id": "atmospheric-intensity",
   "metadata": {},
   "outputs": [
    {
     "data": {
      "text/plain": [
       "STEM               24.711687\n",
       "Humanities         20.520674\n",
       "Other              25.274725\n",
       "Business Degree    26.086957\n",
       "Arts               20.967742\n",
       "No Major           24.528302\n",
       "Name: major_discipline, dtype: float64"
      ]
     },
     "execution_count": 67,
     "metadata": {},
     "output_type": "execute_result"
    }
   ],
   "source": [
    "disc_target = df[df['target'] == 1]['major_discipline']\n",
    "\n",
    "disc_target.value_counts()/df['major_discipline'].value_counts()*100"
   ]
  },
  {
   "cell_type": "markdown",
   "id": "ideal-pregnancy",
   "metadata": {},
   "source": [
    "Kandidat dari Business dan STEM memiliki kecenderungan keluar ke Data Science company paling besar. Hal ini menarik karena STEM merupakan jurusan yang sejalan dengan Data Science, sedangkan Business merupakan jurusan yang sangat berbeda dengan Data Science. Kandidat dengan kecenderungan saty paling besar berasal dari jurusan Arts dan Humanities."
   ]
  },
  {
   "cell_type": "markdown",
   "id": "comparative-owner",
   "metadata": {},
   "source": [
    "#### Experience"
   ]
  },
  {
   "cell_type": "code",
   "execution_count": 76,
   "id": "rotary-extension",
   "metadata": {},
   "outputs": [
    {
     "name": "stderr",
     "output_type": "stream",
     "text": [
      "/Users/marshaalexandra/opt/anaconda3/lib/python3.8/site-packages/seaborn/_decorators.py:36: FutureWarning: Pass the following variable as a keyword arg: x. From version 0.12, the only valid positional argument will be `data`, and passing other arguments without an explicit keyword will result in an error or misinterpretation.\n",
      "  warnings.warn(\n"
     ]
    },
    {
     "data": {
      "text/plain": [
       "<AxesSubplot:xlabel='experience', ylabel='count'>"
      ]
     },
     "execution_count": 76,
     "metadata": {},
     "output_type": "execute_result"
    },
    {
     "data": {
      "image/png": "[encoded data removed]",
      "text/plain": [
       "<Figure size 720x360 with 1 Axes>"
      ]
     },
     "metadata": {},
     "output_type": "display_data"
    }
   ],
   "source": [
    "plt.figure(figsize =(10,5))\n",
    "sns.countplot(df['experience'])"
   ]
  },
  {
   "cell_type": "code",
   "execution_count": 84,
   "id": "cathedral-aquatic",
   "metadata": {},
   "outputs": [
    {
     "data": {
      "text/plain": [
       "<1     45.676275\n",
       "1      42.105263\n",
       "3      34.914146\n",
       "2      33.701103\n",
       "4      32.126348\n",
       "7      29.531568\n",
       "5      29.094989\n",
       "6      28.608924\n",
       "8      23.958333\n",
       "20     23.239437\n",
       "11     22.804314\n",
       "10     21.353066\n",
       "9      21.153846\n",
       "13     18.863049\n",
       "12     17.894737\n",
       "14     17.750439\n",
       "17     16.918429\n",
       "15     16.616766\n",
       "19     16.326531\n",
       ">20    15.273413\n",
       "18     14.285714\n",
       "16     13.319672\n",
       "Name: experience, dtype: float64"
      ]
     },
     "execution_count": 84,
     "metadata": {},
     "output_type": "execute_result"
    }
   ],
   "source": [
    "year_target = df[df['target'] == 1]['experience']\n",
    "\n",
    "year = year_target.value_counts()/df['experience'].value_counts()*100\n",
    "year.sort_values(ascending = False)"
   ]
  },
  {
   "cell_type": "markdown",
   "id": "proved-given",
   "metadata": {},
   "source": [
    "Kandidat dengan pengalaman kerja di bawah 5 tahun punya kecenderungan keluar paling besar. Hal ini masuk akal karena semakin lama kandidat beradaptasi pada perusahaan, kemungkinan kandidat keluar lebih kecil."
   ]
  },
  {
   "cell_type": "markdown",
   "id": "spare-scholar",
   "metadata": {},
   "source": [
    "#### Company Type"
   ]
  },
  {
   "cell_type": "code",
   "execution_count": 35,
   "id": "cognitive-chassis",
   "metadata": {},
   "outputs": [
    {
     "name": "stderr",
     "output_type": "stream",
     "text": [
      "/Users/marshaalexandra/opt/anaconda3/lib/python3.8/site-packages/seaborn/_decorators.py:36: FutureWarning: Pass the following variable as a keyword arg: x. From version 0.12, the only valid positional argument will be `data`, and passing other arguments without an explicit keyword will result in an error or misinterpretation.\n",
      "  warnings.warn(\n"
     ]
    },
    {
     "data": {
      "image/png": "[encoded data removed]",
      "text/plain": [
       "<Figure size 720x360 with 1 Axes>"
      ]
     },
     "metadata": {
      "needs_background": "light"
     },
     "output_type": "display_data"
    }
   ],
   "source": [
    "plt.figure(figsize=(10,5))\n",
    "sns.countplot(df['company_type'])\n",
    "plt.show()"
   ]
  },
  {
   "cell_type": "code",
   "execution_count": 43,
   "id": "understood-mandate",
   "metadata": {},
   "outputs": [
    {
     "data": {
      "text/plain": [
       "Text(0.5, 1.0, 'Persentase Kandidat yang Keluar')"
      ]
     },
     "execution_count": 43,
     "metadata": {},
     "output_type": "execute_result"
    },
    {
     "data": {
      "image/png": "[encoded data removed]",
      "text/plain": [
       "<Figure size 576x576 with 1 Axes>"
      ]
     },
     "metadata": {},
     "output_type": "display_data"
    }
   ],
   "source": [
    "company_type = df[df['target'] == 1]['company_type']\n",
    "temp = company_type.value_counts()\n",
    "labels = temp.keys()\n",
    "bar,ax = plt.subplots(figsize=(8,8))\n",
    "plt.pie(x = temp, labels = labels, autopct=\"%.1f%%\",pctdistance=0.7)\n",
    "plt.title('Persentase Kandidat yang Keluar', fontsize=20)"
   ]
  },
  {
   "cell_type": "code",
   "execution_count": 46,
   "id": "dramatic-impact",
   "metadata": {},
   "outputs": [
    {
     "name": "stdout",
     "output_type": "stream",
     "text": [
      "21.361163539469302 % kandidat dari Pvt Ltd mencari pekerjaan baru\n",
      "0.7660708337959365 % kandidat dari Funded Startup mencari pekerjaan baru\n",
      "0.6883535028311313 % kandidat dari Early Stage Startup mencari pekerjaan baru\n",
      "0.1498834240035528 % kandidat dari Other mencari pekerjaan baru\n",
      "1.0880426335072721 % kandidat dari Public Sector mencari pekerjaan baru\n",
      "0.48850893749306096 % kandidat dari NGO mencari pekerjaan baru\n"
     ]
    }
   ],
   "source": [
    "for i in df['company_type'].unique():\n",
    "    company_newjob = df[(df['company_type']==i) & df['target']==1]\n",
    "    print('{} % kandidat dari {} mencari pekerjaan baru'.format(len(company_newjob)/len(df['company_type']==i)*100,i))"
   ]
  },
  {
   "cell_type": "markdown",
   "id": "recovered-story",
   "metadata": {},
   "source": [
    "Dari data di atas, dapat dilihat bahwa kebanyakan kandidat yang keluar dari Pvt Ltd."
   ]
  },
  {
   "cell_type": "markdown",
   "id": "appropriate-somerset",
   "metadata": {},
   "source": [
    "#### Company Size"
   ]
  },
  {
   "cell_type": "code",
   "execution_count": 88,
   "id": "musical-rainbow",
   "metadata": {},
   "outputs": [],
   "source": [
    "df.replace('10/49', '10-49',inplace = True)"
   ]
  },
  {
   "cell_type": "code",
   "execution_count": 91,
   "id": "rural-swaziland",
   "metadata": {},
   "outputs": [
    {
     "name": "stderr",
     "output_type": "stream",
     "text": [
      "/Users/marshaalexandra/opt/anaconda3/lib/python3.8/site-packages/seaborn/_decorators.py:36: FutureWarning: Pass the following variable as a keyword arg: x. From version 0.12, the only valid positional argument will be `data`, and passing other arguments without an explicit keyword will result in an error or misinterpretation.\n",
      "  warnings.warn(\n"
     ]
    },
    {
     "data": {
      "image/png": "[encoded data removed]",
      "text/plain": [
       "<Figure size 720x360 with 1 Axes>"
      ]
     },
     "metadata": {},
     "output_type": "display_data"
    }
   ],
   "source": [
    "plt.figure(figsize=(10,5))\n",
    "sns.countplot(df['company_size'])\n",
    "plt.show()"
   ]
  },
  {
   "cell_type": "code",
   "execution_count": 92,
   "id": "answering-thread",
   "metadata": {},
   "outputs": [
    {
     "data": {
      "text/plain": [
       "50-99        32.966102\n",
       "10-49        22.238164\n",
       "10000+       18.737271\n",
       "5000-9999    17.896679\n",
       "500-999      17.001181\n",
       "<10          16.425121\n",
       "100-500      15.626259\n",
       "1000-4999    14.586583\n",
       "Name: company_size, dtype: float64"
      ]
     },
     "execution_count": 92,
     "metadata": {},
     "output_type": "execute_result"
    }
   ],
   "source": [
    "size_target = df[df['target'] == 1]['company_size']\n",
    "\n",
    "size =size_target.value_counts()/df['company_size'].value_counts()*100\n",
    "size.sort_values(ascending = False)"
   ]
  },
  {
   "cell_type": "code",
   "execution_count": 94,
   "id": "russian-mountain",
   "metadata": {},
   "outputs": [
    {
     "data": {
      "image/png": "[encoded data removed]",
      "text/plain": [
       "<Figure size 864x576 with 1 Axes>"
      ]
     },
     "metadata": {},
     "output_type": "display_data"
    }
   ],
   "source": [
    "sns.set(style=\"darkgrid\")\n",
    "plt.figure(figsize=(12,8))\n",
    "sns.countplot(x='company_type', hue='company_size', data=df)\n",
    "plt.show()"
   ]
  },
  {
   "cell_type": "markdown",
   "id": "aerial-atlas",
   "metadata": {},
   "source": [
    "Dari data di atas, kandidat dari perusahaan dengan jumlah karyawan 50-99 punya kecenderungan keluar paling besar. Hal ini kemungkinan dikarenakan kebanyakan perusahaan dengan jumlah karyawan tersebut merupakan private companies (Pvt Ltd). Dari data company type diperoleh insights bahwa kandidat yang keluar paling banyak berasal dari private companies."
   ]
  },
  {
   "cell_type": "markdown",
   "id": "concrete-detroit",
   "metadata": {},
   "source": [
    "#### Last_new_job"
   ]
  },
  {
   "cell_type": "code",
   "execution_count": 95,
   "id": "central-maria",
   "metadata": {},
   "outputs": [
    {
     "name": "stderr",
     "output_type": "stream",
     "text": [
      "/Users/marshaalexandra/opt/anaconda3/lib/python3.8/site-packages/seaborn/_decorators.py:36: FutureWarning: Pass the following variable as a keyword arg: x. From version 0.12, the only valid positional argument will be `data`, and passing other arguments without an explicit keyword will result in an error or misinterpretation.\n",
      "  warnings.warn(\n"
     ]
    },
    {
     "data": {
      "image/png": "[encoded data removed]",
      "text/plain": [
       "<Figure size 720x360 with 1 Axes>"
      ]
     },
     "metadata": {},
     "output_type": "display_data"
    }
   ],
   "source": [
    "plt.figure(figsize=(10,5))\n",
    "sns.countplot(df['last_new_job'])\n",
    "plt.show()"
   ]
  },
  {
   "cell_type": "code",
   "execution_count": 96,
   "id": "fresh-filename",
   "metadata": {},
   "outputs": [
    {
     "data": {
      "text/plain": [
       "never    31.229995\n",
       "1        26.165105\n",
       "2        24.018394\n",
       "3        22.502523\n",
       "4        21.782178\n",
       ">4       18.006231\n",
       "Name: last_new_job, dtype: float64"
      ]
     },
     "execution_count": 96,
     "metadata": {},
     "output_type": "execute_result"
    }
   ],
   "source": [
    "gap_target = df[df['target'] == 1]['last_new_job']\n",
    "\n",
    "gap =gap_target.value_counts()/df['last_new_job'].value_counts()*100\n",
    "gap.sort_values(ascending = False)"
   ]
  },
  {
   "cell_type": "markdown",
   "id": "enabling-folks",
   "metadata": {},
   "source": [
    "Dari data di atas, semakin besar gap antara pekerjaan lama dan pekerjaan baru, semakin kecil kemungkinan kandidat untuk keluar. Hal ini masuk akal karena bila gapnya besar, kemungkinan kandidat tersebut kesulitan mencari pekerjaan dan akan bertahan lebih lama di pekerjaan yang baru didapati."
   ]
  },
  {
   "cell_type": "markdown",
   "id": "beginning-metallic",
   "metadata": {},
   "source": [
    "#### Training hours"
   ]
  },
  {
   "cell_type": "code",
   "execution_count": 36,
   "id": "dated-arkansas",
   "metadata": {},
   "outputs": [
    {
     "name": "stderr",
     "output_type": "stream",
     "text": [
      "/Users/marshaalexandra/opt/anaconda3/lib/python3.8/site-packages/seaborn/distributions.py:2557: FutureWarning: `distplot` is a deprecated function and will be removed in a future version. Please adapt your code to use either `displot` (a figure-level function with similar flexibility) or `histplot` (an axes-level function for histograms).\n",
      "  warnings.warn(msg, FutureWarning)\n",
      "/Users/marshaalexandra/opt/anaconda3/lib/python3.8/site-packages/seaborn/distributions.py:2557: FutureWarning: `distplot` is a deprecated function and will be removed in a future version. Please adapt your code to use either `displot` (a figure-level function with similar flexibility) or `histplot` (an axes-level function for histograms).\n",
      "  warnings.warn(msg, FutureWarning)\n"
     ]
    },
    {
     "data": {
      "text/plain": [
       "<matplotlib.legend.Legend at 0x7f8b9ff7ef40>"
      ]
     },
     "execution_count": 36,
     "metadata": {},
     "output_type": "execute_result"
    },
    {
     "data": {
      "image/png": "[encoded data removed]",
      "text/plain": [
       "<Figure size 432x288 with 1 Axes>"
      ]
     },
     "metadata": {
      "needs_background": "light"
     },
     "output_type": "display_data"
    }
   ],
   "source": [
    "sns.distplot(df[df['target']==1.0]['training_hours'],label='yes')\n",
    "sns.distplot(df[df['target']==0.0]['training_hours'],label='no')\n",
    "plt.legend()"
   ]
  },
  {
   "cell_type": "markdown",
   "id": "through-breast",
   "metadata": {},
   "source": [
    "Training hours antara kandidat yang ingin stay dan kandidat yang ingin keluar hampir overlap, artinya tidak ada perbedaan signifikan dalam training hours sehingga training hours juga bukan faktor penentu dalam hal ini."
   ]
  },
  {
   "cell_type": "code",
   "execution_count": 71,
   "id": "departmental-sunset",
   "metadata": {},
   "outputs": [
    {
     "data": {
      "image/png": "[encoded data removed]",
      "text/plain": [
       "<Figure size 576x576 with 2 Axes>"
      ]
     },
     "metadata": {
      "needs_background": "light"
     },
     "output_type": "display_data"
    }
   ],
   "source": [
    "#numerical feature correlation\n",
    "plt.figure(figsize=(8,8))\n",
    "sns.heatmap(df.drop(columns=['enrollee_id']).corr(), annot=True, square=True)\n",
    "plt.show()"
   ]
  },
  {
   "cell_type": "markdown",
   "id": "limited-nudist",
   "metadata": {},
   "source": [
    "Berdasarkan heatmap diatas, feature numerical di atas memiliki korelasi yang rendah dengan target. Akan tetapi hasil boxplot city_development_index menunjukkan korelasi dengan kelas target."
   ]
  },
  {
   "cell_type": "code",
   "execution_count": 97,
   "id": "directed-involvement",
   "metadata": {},
   "outputs": [
    {
     "name": "stdout",
     "output_type": "stream",
     "text": [
      "<class 'pandas.core.frame.DataFrame'>\n",
      "Int64Index: 18014 entries, 0 to 19157\n",
      "Data columns (total 14 columns):\n",
      " #   Column                  Non-Null Count  Dtype  \n",
      "---  ------                  --------------  -----  \n",
      " 0   enrollee_id             18014 non-null  int64  \n",
      " 1   city                    18014 non-null  object \n",
      " 2   city_development_index  18014 non-null  float64\n",
      " 3   gender                  18014 non-null  object \n",
      " 4   relevent_experience     18014 non-null  object \n",
      " 5   enrolled_university     18014 non-null  object \n",
      " 6   education_level         18014 non-null  object \n",
      " 7   major_discipline        18014 non-null  object \n",
      " 8   experience              18014 non-null  object \n",
      " 9   company_size            18014 non-null  object \n",
      " 10  company_type            18014 non-null  object \n",
      " 11  last_new_job            18014 non-null  object \n",
      " 12  training_hours          18014 non-null  int64  \n",
      " 13  target                  18014 non-null  float64\n",
      "dtypes: float64(2), int64(2), object(10)\n",
      "memory usage: 2.6+ MB\n"
     ]
    }
   ],
   "source": [
    "df.info()"
   ]
  },
  {
   "cell_type": "code",
   "execution_count": null,
   "id": "perfect-insight",
   "metadata": {},
   "outputs": [],
   "source": [
    " Untuk penentuan kandidat keluar/stay dapat diperoleh dari feature-feature:\n",
    "    - city development index\n",
    "    - relevant experience\n",
    "    - education level\n",
    "    - major discipline\n",
    "    - (work) experience\n",
    "    - company size / company type\n",
    "    - last new job\n",
    "    \n",
    "Demografis kandidat karyawan yang kemungkinan akan bekerja di perusahaan tersebut (keluar) adalah:\n",
    "    - kandidat yang berasal dari kota dengan city development index di bawah 0.8\n",
    "    - kandidat yang tidak memiliki pengalaman kerja yang relevan dengan training\n",
    "    - kandidat dengan education level S1 dan S2\n",
    "    - kandidat dengan major discipline selain Arts dan Humanities\n",
    "    - kandidat dengan work experience di bawah 5 tahun\n",
    "    - kandidat yang berasal dari private companies, dengan jumlah karyawan 50-99\n",
    "    - kandidat yang gap antar pekerjaan"
   ]
  }
 ],
 "metadata": {
  "kernelspec": {
   "display_name": "Python 3",
   "language": "python",
   "name": "python3"
  },
  "language_info": {
   "codemirror_mode": {
    "name": "ipython",
    "version": 3
   },
   "file_extension": ".py",
   "mimetype": "text/x-python",
   "name": "python",
   "nbconvert_exporter": "python",
   "pygments_lexer": "ipython3",
   "version": "3.8.3"
  }
 },
 "nbformat": 4,
 "nbformat_minor": 5
}
