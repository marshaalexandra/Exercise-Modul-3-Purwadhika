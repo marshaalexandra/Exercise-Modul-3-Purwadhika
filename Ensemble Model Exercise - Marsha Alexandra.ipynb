{
 "cells": [
  {
   "cell_type": "markdown",
   "id": "demonstrated-experience",
   "metadata": {},
   "source": [
    "# Random Forest"
   ]
  },
  {
   "cell_type": "code",
   "execution_count": 1,
   "id": "impressed-parking",
   "metadata": {},
   "outputs": [],
   "source": [
    "import pandas as pd\n",
    "import numpy as np\n",
    "import statsmodels.api as sm\n",
    "import seaborn as sns\n",
    "import matplotlib.pyplot as plt\n",
    "\n",
    "from sklearn.model_selection import train_test_split, cross_val_score, GridSearchCV, StratifiedKFold\n",
    "from sklearn.tree import DecisionTreeClassifier, plot_tree\n",
    "from sklearn.ensemble import RandomForestClassifier, AdaBoostClassifier, GradientBoostingClassifier\n",
    "from sklearn.preprocessing import OneHotEncoder\n",
    "import category_encoders as ce\n",
    "from sklearn.metrics import confusion_matrix, classification_report, plot_roc_curve, plot_precision_recall_curve, f1_score\n",
    "from sklearn.impute import SimpleImputer\n",
    "from sklearn.pipeline import Pipeline\n",
    "from sklearn.compose import ColumnTransformer\n",
    "from xgboost.sklearn import XGBClassifier"
   ]
  },
  {
   "cell_type": "code",
   "execution_count": 9,
   "id": "eastern-administration",
   "metadata": {},
   "outputs": [
    {
     "data": {
      "text/html": [
       "<div>\n",
       "<style scoped>\n",
       "    .dataframe tbody tr th:only-of-type {\n",
       "        vertical-align: middle;\n",
       "    }\n",
       "\n",
       "    .dataframe tbody tr th {\n",
       "        vertical-align: top;\n",
       "    }\n",
       "\n",
       "    .dataframe thead th {\n",
       "        text-align: right;\n",
       "    }\n",
       "</style>\n",
       "<table border=\"1\" class=\"dataframe\">\n",
       "  <thead>\n",
       "    <tr style=\"text-align: right;\">\n",
       "      <th></th>\n",
       "      <th>age</th>\n",
       "      <th>workclass</th>\n",
       "      <th>fnlwgt</th>\n",
       "      <th>education</th>\n",
       "      <th>education.num</th>\n",
       "      <th>marital.status</th>\n",
       "      <th>occupation</th>\n",
       "      <th>relationship</th>\n",
       "      <th>race</th>\n",
       "      <th>sex</th>\n",
       "      <th>capital.gain</th>\n",
       "      <th>capital.loss</th>\n",
       "      <th>hours.per.week</th>\n",
       "      <th>native.country</th>\n",
       "      <th>income</th>\n",
       "    </tr>\n",
       "  </thead>\n",
       "  <tbody>\n",
       "    <tr>\n",
       "      <th>0</th>\n",
       "      <td>90</td>\n",
       "      <td>?</td>\n",
       "      <td>77053</td>\n",
       "      <td>HS-grad</td>\n",
       "      <td>9</td>\n",
       "      <td>Widowed</td>\n",
       "      <td>?</td>\n",
       "      <td>Not-in-family</td>\n",
       "      <td>White</td>\n",
       "      <td>Female</td>\n",
       "      <td>0</td>\n",
       "      <td>4356</td>\n",
       "      <td>40</td>\n",
       "      <td>United-States</td>\n",
       "      <td>&lt;=50K</td>\n",
       "    </tr>\n",
       "    <tr>\n",
       "      <th>1</th>\n",
       "      <td>82</td>\n",
       "      <td>Private</td>\n",
       "      <td>132870</td>\n",
       "      <td>HS-grad</td>\n",
       "      <td>9</td>\n",
       "      <td>Widowed</td>\n",
       "      <td>Exec-managerial</td>\n",
       "      <td>Not-in-family</td>\n",
       "      <td>White</td>\n",
       "      <td>Female</td>\n",
       "      <td>0</td>\n",
       "      <td>4356</td>\n",
       "      <td>18</td>\n",
       "      <td>United-States</td>\n",
       "      <td>&lt;=50K</td>\n",
       "    </tr>\n",
       "    <tr>\n",
       "      <th>2</th>\n",
       "      <td>66</td>\n",
       "      <td>?</td>\n",
       "      <td>186061</td>\n",
       "      <td>Some-college</td>\n",
       "      <td>10</td>\n",
       "      <td>Widowed</td>\n",
       "      <td>?</td>\n",
       "      <td>Unmarried</td>\n",
       "      <td>Black</td>\n",
       "      <td>Female</td>\n",
       "      <td>0</td>\n",
       "      <td>4356</td>\n",
       "      <td>40</td>\n",
       "      <td>United-States</td>\n",
       "      <td>&lt;=50K</td>\n",
       "    </tr>\n",
       "    <tr>\n",
       "      <th>3</th>\n",
       "      <td>54</td>\n",
       "      <td>Private</td>\n",
       "      <td>140359</td>\n",
       "      <td>7th-8th</td>\n",
       "      <td>4</td>\n",
       "      <td>Divorced</td>\n",
       "      <td>Machine-op-inspct</td>\n",
       "      <td>Unmarried</td>\n",
       "      <td>White</td>\n",
       "      <td>Female</td>\n",
       "      <td>0</td>\n",
       "      <td>3900</td>\n",
       "      <td>40</td>\n",
       "      <td>United-States</td>\n",
       "      <td>&lt;=50K</td>\n",
       "    </tr>\n",
       "    <tr>\n",
       "      <th>4</th>\n",
       "      <td>41</td>\n",
       "      <td>Private</td>\n",
       "      <td>264663</td>\n",
       "      <td>Some-college</td>\n",
       "      <td>10</td>\n",
       "      <td>Separated</td>\n",
       "      <td>Prof-specialty</td>\n",
       "      <td>Own-child</td>\n",
       "      <td>White</td>\n",
       "      <td>Female</td>\n",
       "      <td>0</td>\n",
       "      <td>3900</td>\n",
       "      <td>40</td>\n",
       "      <td>United-States</td>\n",
       "      <td>&lt;=50K</td>\n",
       "    </tr>\n",
       "    <tr>\n",
       "      <th>...</th>\n",
       "      <td>...</td>\n",
       "      <td>...</td>\n",
       "      <td>...</td>\n",
       "      <td>...</td>\n",
       "      <td>...</td>\n",
       "      <td>...</td>\n",
       "      <td>...</td>\n",
       "      <td>...</td>\n",
       "      <td>...</td>\n",
       "      <td>...</td>\n",
       "      <td>...</td>\n",
       "      <td>...</td>\n",
       "      <td>...</td>\n",
       "      <td>...</td>\n",
       "      <td>...</td>\n",
       "    </tr>\n",
       "    <tr>\n",
       "      <th>32556</th>\n",
       "      <td>22</td>\n",
       "      <td>Private</td>\n",
       "      <td>310152</td>\n",
       "      <td>Some-college</td>\n",
       "      <td>10</td>\n",
       "      <td>Never-married</td>\n",
       "      <td>Protective-serv</td>\n",
       "      <td>Not-in-family</td>\n",
       "      <td>White</td>\n",
       "      <td>Male</td>\n",
       "      <td>0</td>\n",
       "      <td>0</td>\n",
       "      <td>40</td>\n",
       "      <td>United-States</td>\n",
       "      <td>&lt;=50K</td>\n",
       "    </tr>\n",
       "    <tr>\n",
       "      <th>32557</th>\n",
       "      <td>27</td>\n",
       "      <td>Private</td>\n",
       "      <td>257302</td>\n",
       "      <td>Assoc-acdm</td>\n",
       "      <td>12</td>\n",
       "      <td>Married-civ-spouse</td>\n",
       "      <td>Tech-support</td>\n",
       "      <td>Wife</td>\n",
       "      <td>White</td>\n",
       "      <td>Female</td>\n",
       "      <td>0</td>\n",
       "      <td>0</td>\n",
       "      <td>38</td>\n",
       "      <td>United-States</td>\n",
       "      <td>&lt;=50K</td>\n",
       "    </tr>\n",
       "    <tr>\n",
       "      <th>32558</th>\n",
       "      <td>40</td>\n",
       "      <td>Private</td>\n",
       "      <td>154374</td>\n",
       "      <td>HS-grad</td>\n",
       "      <td>9</td>\n",
       "      <td>Married-civ-spouse</td>\n",
       "      <td>Machine-op-inspct</td>\n",
       "      <td>Husband</td>\n",
       "      <td>White</td>\n",
       "      <td>Male</td>\n",
       "      <td>0</td>\n",
       "      <td>0</td>\n",
       "      <td>40</td>\n",
       "      <td>United-States</td>\n",
       "      <td>&gt;50K</td>\n",
       "    </tr>\n",
       "    <tr>\n",
       "      <th>32559</th>\n",
       "      <td>58</td>\n",
       "      <td>Private</td>\n",
       "      <td>151910</td>\n",
       "      <td>HS-grad</td>\n",
       "      <td>9</td>\n",
       "      <td>Widowed</td>\n",
       "      <td>Adm-clerical</td>\n",
       "      <td>Unmarried</td>\n",
       "      <td>White</td>\n",
       "      <td>Female</td>\n",
       "      <td>0</td>\n",
       "      <td>0</td>\n",
       "      <td>40</td>\n",
       "      <td>United-States</td>\n",
       "      <td>&lt;=50K</td>\n",
       "    </tr>\n",
       "    <tr>\n",
       "      <th>32560</th>\n",
       "      <td>22</td>\n",
       "      <td>Private</td>\n",
       "      <td>201490</td>\n",
       "      <td>HS-grad</td>\n",
       "      <td>9</td>\n",
       "      <td>Never-married</td>\n",
       "      <td>Adm-clerical</td>\n",
       "      <td>Own-child</td>\n",
       "      <td>White</td>\n",
       "      <td>Male</td>\n",
       "      <td>0</td>\n",
       "      <td>0</td>\n",
       "      <td>20</td>\n",
       "      <td>United-States</td>\n",
       "      <td>&lt;=50K</td>\n",
       "    </tr>\n",
       "  </tbody>\n",
       "</table>\n",
       "<p>32561 rows × 15 columns</p>\n",
       "</div>"
      ],
      "text/plain": [
       "       age workclass  fnlwgt     education  education.num      marital.status  \\\n",
       "0       90         ?   77053       HS-grad              9             Widowed   \n",
       "1       82   Private  132870       HS-grad              9             Widowed   \n",
       "2       66         ?  186061  Some-college             10             Widowed   \n",
       "3       54   Private  140359       7th-8th              4            Divorced   \n",
       "4       41   Private  264663  Some-college             10           Separated   \n",
       "...    ...       ...     ...           ...            ...                 ...   \n",
       "32556   22   Private  310152  Some-college             10       Never-married   \n",
       "32557   27   Private  257302    Assoc-acdm             12  Married-civ-spouse   \n",
       "32558   40   Private  154374       HS-grad              9  Married-civ-spouse   \n",
       "32559   58   Private  151910       HS-grad              9             Widowed   \n",
       "32560   22   Private  201490       HS-grad              9       Never-married   \n",
       "\n",
       "              occupation   relationship   race     sex  capital.gain  \\\n",
       "0                      ?  Not-in-family  White  Female             0   \n",
       "1        Exec-managerial  Not-in-family  White  Female             0   \n",
       "2                      ?      Unmarried  Black  Female             0   \n",
       "3      Machine-op-inspct      Unmarried  White  Female             0   \n",
       "4         Prof-specialty      Own-child  White  Female             0   \n",
       "...                  ...            ...    ...     ...           ...   \n",
       "32556    Protective-serv  Not-in-family  White    Male             0   \n",
       "32557       Tech-support           Wife  White  Female             0   \n",
       "32558  Machine-op-inspct        Husband  White    Male             0   \n",
       "32559       Adm-clerical      Unmarried  White  Female             0   \n",
       "32560       Adm-clerical      Own-child  White    Male             0   \n",
       "\n",
       "       capital.loss  hours.per.week native.country income  \n",
       "0              4356              40  United-States  <=50K  \n",
       "1              4356              18  United-States  <=50K  \n",
       "2              4356              40  United-States  <=50K  \n",
       "3              3900              40  United-States  <=50K  \n",
       "4              3900              40  United-States  <=50K  \n",
       "...             ...             ...            ...    ...  \n",
       "32556             0              40  United-States  <=50K  \n",
       "32557             0              38  United-States  <=50K  \n",
       "32558             0              40  United-States   >50K  \n",
       "32559             0              40  United-States  <=50K  \n",
       "32560             0              20  United-States  <=50K  \n",
       "\n",
       "[32561 rows x 15 columns]"
      ]
     },
     "execution_count": 9,
     "metadata": {},
     "output_type": "execute_result"
    }
   ],
   "source": [
    "adult = pd.read_csv('adult.csv')\n",
    "adult"
   ]
  },
  {
   "cell_type": "markdown",
   "id": "cooperative-christmas",
   "metadata": {},
   "source": [
    "Adult dataset memiliki missing value yang ditandai dengan '?' pada kolom workclass, occupation, native.country"
   ]
  },
  {
   "cell_type": "markdown",
   "id": "entitled-camera",
   "metadata": {},
   "source": [
    "## Preprocessing"
   ]
  },
  {
   "cell_type": "markdown",
   "id": "banner-appointment",
   "metadata": {},
   "source": [
    "preprocessing scheme:\n",
    "  - one hot encoding: relationship, race, sex\n",
    "  - binary encoding: workclass, marital status, occupation, native country\n",
    "  - ordinal encoding: education (already encoded)\n",
    "  - no treatment: numerical\n",
    "  - out: fnlwgt    "
   ]
  },
  {
   "cell_type": "markdown",
   "id": "subject-asthma",
   "metadata": {},
   "source": [
    "## Data Transformation"
   ]
  },
  {
   "cell_type": "code",
   "execution_count": 10,
   "id": "romantic-compact",
   "metadata": {},
   "outputs": [],
   "source": [
    "binary_pipe = Pipeline([\n",
    "    ('imputer',SimpleImputer(strategy = 'constant', fill_value = 'NC', missing_values =\"?\")),\n",
    "    ('binary encoder', ce.BinaryEncoder())\n",
    "])\n",
    "\n",
    "transformer = ColumnTransformer([\n",
    "    ('one hot', OneHotEncoder(drop = 'first'),['relationship','race','sex']),\n",
    "    ('binary',binary_pipe,['workclass','marital.status','occupation','native.country'])\n",
    "], remainder = 'passthrough')"
   ]
  },
  {
   "cell_type": "markdown",
   "id": "plastic-aspect",
   "metadata": {},
   "source": [
    "## Data Splitting"
   ]
  },
  {
   "cell_type": "code",
   "execution_count": 11,
   "id": "senior-scout",
   "metadata": {},
   "outputs": [],
   "source": [
    "x = adult.drop(['fnlwgt','education','income'],axis = 1)\n",
    "y = np.where(adult['income']=='>50K',1,0)"
   ]
  },
  {
   "cell_type": "code",
   "execution_count": 12,
   "id": "laughing-skirt",
   "metadata": {},
   "outputs": [],
   "source": [
    "x_train, x_test, y_train, y_test = train_test_split(x, y, \n",
    "                                                    stratify = y,\n",
    "                                                    random_state = 10)"
   ]
  },
  {
   "cell_type": "markdown",
   "id": "royal-composer",
   "metadata": {},
   "source": [
    "## Model Fitting and Evaluation: Decision Tree"
   ]
  },
  {
   "cell_type": "code",
   "execution_count": 13,
   "id": "hydraulic-iceland",
   "metadata": {},
   "outputs": [],
   "source": [
    "tree = DecisionTreeClassifier(max_depth = 3)\n",
    "pipe_tree = Pipeline([('transformer',transformer),\n",
    "                     ('model',tree)])"
   ]
  },
  {
   "cell_type": "code",
   "execution_count": 14,
   "id": "danish-single",
   "metadata": {},
   "outputs": [
    {
     "name": "stderr",
     "output_type": "stream",
     "text": [
      "/Users/marshaalexandra/opt/anaconda3/lib/python3.8/site-packages/category_encoders/utils.py:21: FutureWarning: is_categorical is deprecated and will be removed in a future version.  Use is_categorical_dtype instead\n",
      "  elif pd.api.types.is_categorical(cols):\n"
     ]
    },
    {
     "data": {
      "text/plain": [
       "Pipeline(steps=[('transformer',\n",
       "                 ColumnTransformer(remainder='passthrough',\n",
       "                                   transformers=[('one hot',\n",
       "                                                  OneHotEncoder(drop='first'),\n",
       "                                                  ['relationship', 'race',\n",
       "                                                   'sex']),\n",
       "                                                 ('binary',\n",
       "                                                  Pipeline(steps=[('imputer',\n",
       "                                                                   SimpleImputer(fill_value='NC',\n",
       "                                                                                 missing_values='?',\n",
       "                                                                                 strategy='constant')),\n",
       "                                                                  ('binary '\n",
       "                                                                   'encoder',\n",
       "                                                                   BinaryEncoder())]),\n",
       "                                                  ['workclass',\n",
       "                                                   'marital.status',\n",
       "                                                   'occupation',\n",
       "                                                   'native.country'])])),\n",
       "                ('model', DecisionTreeClassifier(max_depth=3))])"
      ]
     },
     "execution_count": 14,
     "metadata": {},
     "output_type": "execute_result"
    }
   ],
   "source": [
    "pipe_tree.fit(x_train,y_train)"
   ]
  },
  {
   "cell_type": "code",
   "execution_count": 15,
   "id": "norwegian-chance",
   "metadata": {},
   "outputs": [
    {
     "name": "stdout",
     "output_type": "stream",
     "text": [
      "              precision    recall  f1-score   support\n",
      "\n",
      "           0       0.86      0.92      0.89      6181\n",
      "           1       0.68      0.53      0.59      1960\n",
      "\n",
      "    accuracy                           0.83      8141\n",
      "   macro avg       0.77      0.72      0.74      8141\n",
      "weighted avg       0.82      0.83      0.82      8141\n",
      "\n"
     ]
    }
   ],
   "source": [
    "y_pred = pipe_tree.predict(x_test)\n",
    "print(classification_report(y_test,y_pred))"
   ]
  },
  {
   "cell_type": "markdown",
   "id": "centered-violin",
   "metadata": {},
   "source": [
    "## Model Properties: Feature Importance"
   ]
  },
  {
   "cell_type": "code",
   "execution_count": 16,
   "id": "sharp-participation",
   "metadata": {},
   "outputs": [
    {
     "data": {
      "text/plain": [
       "array(['x0_Not-in-family', 'x0_Other-relative', 'x0_Own-child',\n",
       "       'x0_Unmarried', 'x0_Wife', 'x1_Asian-Pac-Islander', 'x1_Black',\n",
       "       'x1_Other', 'x1_White', 'x2_Male'], dtype=object)"
      ]
     },
     "execution_count": 16,
     "metadata": {},
     "output_type": "execute_result"
    }
   ],
   "source": [
    "pipe_tree[0].transformers_[0][1].get_feature_names()"
   ]
  },
  {
   "cell_type": "code",
   "execution_count": 17,
   "id": "italic-crowd",
   "metadata": {},
   "outputs": [
    {
     "data": {
      "text/plain": [
       "['0_0',\n",
       " '0_1',\n",
       " '0_2',\n",
       " '0_3',\n",
       " '0_4',\n",
       " '1_0',\n",
       " '1_1',\n",
       " '1_2',\n",
       " '1_3',\n",
       " '2_0',\n",
       " '2_1',\n",
       " '2_2',\n",
       " '2_3',\n",
       " '2_4',\n",
       " '3_0',\n",
       " '3_1',\n",
       " '3_2',\n",
       " '3_3',\n",
       " '3_4',\n",
       " '3_5',\n",
       " '3_6']"
      ]
     },
     "execution_count": 17,
     "metadata": {},
     "output_type": "execute_result"
    }
   ],
   "source": [
    "pipe_tree[0].transformers_[1][1][1].get_feature_names()"
   ]
  },
  {
   "cell_type": "code",
   "execution_count": 18,
   "id": "younger-stick",
   "metadata": {},
   "outputs": [],
   "source": [
    "features = list(pipe_tree[0].transformers_[0][1].get_feature_names()) + pipe_tree[0].transformers_[1][1][1].get_feature_names() + ['age','education.num','capital.gain','capital.loss','hours.per.week']"
   ]
  },
  {
   "cell_type": "code",
   "execution_count": 19,
   "id": "alpine-breach",
   "metadata": {},
   "outputs": [
    {
     "data": {
      "text/html": [
       "<div>\n",
       "<style scoped>\n",
       "    .dataframe tbody tr th:only-of-type {\n",
       "        vertical-align: middle;\n",
       "    }\n",
       "\n",
       "    .dataframe tbody tr th {\n",
       "        vertical-align: top;\n",
       "    }\n",
       "\n",
       "    .dataframe thead th {\n",
       "        text-align: right;\n",
       "    }\n",
       "</style>\n",
       "<table border=\"1\" class=\"dataframe\">\n",
       "  <thead>\n",
       "    <tr style=\"text-align: right;\">\n",
       "      <th></th>\n",
       "      <th>imp</th>\n",
       "    </tr>\n",
       "  </thead>\n",
       "  <tbody>\n",
       "    <tr>\n",
       "      <th>x0_Not-in-family</th>\n",
       "      <td>0.000000</td>\n",
       "    </tr>\n",
       "    <tr>\n",
       "      <th>x0_Other-relative</th>\n",
       "      <td>0.000000</td>\n",
       "    </tr>\n",
       "    <tr>\n",
       "      <th>x0_Own-child</th>\n",
       "      <td>0.000000</td>\n",
       "    </tr>\n",
       "    <tr>\n",
       "      <th>x0_Unmarried</th>\n",
       "      <td>0.000000</td>\n",
       "    </tr>\n",
       "    <tr>\n",
       "      <th>x0_Wife</th>\n",
       "      <td>0.000000</td>\n",
       "    </tr>\n",
       "    <tr>\n",
       "      <th>x1_Asian-Pac-Islander</th>\n",
       "      <td>0.000000</td>\n",
       "    </tr>\n",
       "    <tr>\n",
       "      <th>x1_Black</th>\n",
       "      <td>0.000000</td>\n",
       "    </tr>\n",
       "    <tr>\n",
       "      <th>x1_Other</th>\n",
       "      <td>0.000000</td>\n",
       "    </tr>\n",
       "    <tr>\n",
       "      <th>x1_White</th>\n",
       "      <td>0.000000</td>\n",
       "    </tr>\n",
       "    <tr>\n",
       "      <th>x2_Male</th>\n",
       "      <td>0.000000</td>\n",
       "    </tr>\n",
       "    <tr>\n",
       "      <th>0_0</th>\n",
       "      <td>0.000000</td>\n",
       "    </tr>\n",
       "    <tr>\n",
       "      <th>0_1</th>\n",
       "      <td>0.000000</td>\n",
       "    </tr>\n",
       "    <tr>\n",
       "      <th>0_2</th>\n",
       "      <td>0.000000</td>\n",
       "    </tr>\n",
       "    <tr>\n",
       "      <th>0_3</th>\n",
       "      <td>0.000000</td>\n",
       "    </tr>\n",
       "    <tr>\n",
       "      <th>0_4</th>\n",
       "      <td>0.000000</td>\n",
       "    </tr>\n",
       "    <tr>\n",
       "      <th>1_0</th>\n",
       "      <td>0.000000</td>\n",
       "    </tr>\n",
       "    <tr>\n",
       "      <th>1_1</th>\n",
       "      <td>0.000000</td>\n",
       "    </tr>\n",
       "    <tr>\n",
       "      <th>1_2</th>\n",
       "      <td>0.294635</td>\n",
       "    </tr>\n",
       "    <tr>\n",
       "      <th>1_3</th>\n",
       "      <td>0.000000</td>\n",
       "    </tr>\n",
       "    <tr>\n",
       "      <th>2_0</th>\n",
       "      <td>0.000000</td>\n",
       "    </tr>\n",
       "    <tr>\n",
       "      <th>2_1</th>\n",
       "      <td>0.000000</td>\n",
       "    </tr>\n",
       "    <tr>\n",
       "      <th>2_2</th>\n",
       "      <td>0.000000</td>\n",
       "    </tr>\n",
       "    <tr>\n",
       "      <th>2_3</th>\n",
       "      <td>0.000000</td>\n",
       "    </tr>\n",
       "    <tr>\n",
       "      <th>2_4</th>\n",
       "      <td>0.000000</td>\n",
       "    </tr>\n",
       "    <tr>\n",
       "      <th>3_0</th>\n",
       "      <td>0.000000</td>\n",
       "    </tr>\n",
       "    <tr>\n",
       "      <th>3_1</th>\n",
       "      <td>0.000000</td>\n",
       "    </tr>\n",
       "    <tr>\n",
       "      <th>3_2</th>\n",
       "      <td>0.000000</td>\n",
       "    </tr>\n",
       "    <tr>\n",
       "      <th>3_3</th>\n",
       "      <td>0.000000</td>\n",
       "    </tr>\n",
       "    <tr>\n",
       "      <th>3_4</th>\n",
       "      <td>0.000000</td>\n",
       "    </tr>\n",
       "    <tr>\n",
       "      <th>3_5</th>\n",
       "      <td>0.000000</td>\n",
       "    </tr>\n",
       "    <tr>\n",
       "      <th>3_6</th>\n",
       "      <td>0.000000</td>\n",
       "    </tr>\n",
       "    <tr>\n",
       "      <th>age</th>\n",
       "      <td>0.000878</td>\n",
       "    </tr>\n",
       "    <tr>\n",
       "      <th>education.num</th>\n",
       "      <td>0.252002</td>\n",
       "    </tr>\n",
       "    <tr>\n",
       "      <th>capital.gain</th>\n",
       "      <td>0.452485</td>\n",
       "    </tr>\n",
       "    <tr>\n",
       "      <th>capital.loss</th>\n",
       "      <td>0.000000</td>\n",
       "    </tr>\n",
       "    <tr>\n",
       "      <th>hours.per.week</th>\n",
       "      <td>0.000000</td>\n",
       "    </tr>\n",
       "  </tbody>\n",
       "</table>\n",
       "</div>"
      ],
      "text/plain": [
       "                            imp\n",
       "x0_Not-in-family       0.000000\n",
       "x0_Other-relative      0.000000\n",
       "x0_Own-child           0.000000\n",
       "x0_Unmarried           0.000000\n",
       "x0_Wife                0.000000\n",
       "x1_Asian-Pac-Islander  0.000000\n",
       "x1_Black               0.000000\n",
       "x1_Other               0.000000\n",
       "x1_White               0.000000\n",
       "x2_Male                0.000000\n",
       "0_0                    0.000000\n",
       "0_1                    0.000000\n",
       "0_2                    0.000000\n",
       "0_3                    0.000000\n",
       "0_4                    0.000000\n",
       "1_0                    0.000000\n",
       "1_1                    0.000000\n",
       "1_2                    0.294635\n",
       "1_3                    0.000000\n",
       "2_0                    0.000000\n",
       "2_1                    0.000000\n",
       "2_2                    0.000000\n",
       "2_3                    0.000000\n",
       "2_4                    0.000000\n",
       "3_0                    0.000000\n",
       "3_1                    0.000000\n",
       "3_2                    0.000000\n",
       "3_3                    0.000000\n",
       "3_4                    0.000000\n",
       "3_5                    0.000000\n",
       "3_6                    0.000000\n",
       "age                    0.000878\n",
       "education.num          0.252002\n",
       "capital.gain           0.452485\n",
       "capital.loss           0.000000\n",
       "hours.per.week         0.000000"
      ]
     },
     "execution_count": 19,
     "metadata": {},
     "output_type": "execute_result"
    }
   ],
   "source": [
    "importance_tab = pd.DataFrame(pipe_tree[1].feature_importances_, columns = ['imp'],index = features)\n",
    "\n",
    "importance_tab\n",
    "#ambil model properties"
   ]
  },
  {
   "cell_type": "code",
   "execution_count": 20,
   "id": "homeless-kernel",
   "metadata": {},
   "outputs": [
    {
     "data": {
      "text/plain": [
       "<AxesSubplot:>"
      ]
     },
     "execution_count": 20,
     "metadata": {},
     "output_type": "execute_result"
    },
    {
     "data": {
      "image/png": "[encoded data removed]",
      "text/plain": [
       "<Figure size 720x1080 with 1 Axes>"
      ]
     },
     "metadata": {
      "needs_background": "light"
     },
     "output_type": "display_data"
    }
   ],
   "source": [
    "importance_tab.sort_values('imp').plot(kind = 'barh', figsize=(10,15))"
   ]
  },
  {
   "cell_type": "code",
   "execution_count": 21,
   "id": "focused-emerald",
   "metadata": {},
   "outputs": [
    {
     "data": {
      "text/plain": [
       "[Text(558.0, 665.91, 'capital.gain <= 5119.0\\ngini = 0.366\\nsamples = 24420\\nvalue = [18539, 5881]\\nclass = <=50K'),\n",
       " Text(279.0, 475.65, '1_2 <= 0.5\\ngini = 0.325\\nsamples = 23225\\nvalue = [18479, 4746]\\nclass = <=50K'),\n",
       " Text(139.5, 285.39, 'education.num <= 12.5\\ngini = 0.433\\nsamples = 13867\\nvalue = [9481, 4386]\\nclass = <=50K'),\n",
       " Text(69.75, 95.13, 'gini = 0.348\\nsamples = 10368\\nvalue = [8040, 2328]\\nclass = <=50K'),\n",
       " Text(209.25, 95.13, 'gini = 0.484\\nsamples = 3499\\nvalue = [1441, 2058]\\nclass = >50K'),\n",
       " Text(418.5, 285.39, 'education.num <= 13.5\\ngini = 0.074\\nsamples = 9358\\nvalue = [8998, 360]\\nclass = <=50K'),\n",
       " Text(348.75, 95.13, 'gini = 0.053\\nsamples = 8904\\nvalue = [8661, 243]\\nclass = <=50K'),\n",
       " Text(488.25, 95.13, 'gini = 0.383\\nsamples = 454\\nvalue = [337, 117]\\nclass = <=50K'),\n",
       " Text(837.0, 475.65, 'capital.gain <= 7073.5\\ngini = 0.095\\nsamples = 1195\\nvalue = [60, 1135]\\nclass = >50K'),\n",
       " Text(697.5, 285.39, 'capital.gain <= 5316.5\\ngini = 0.454\\nsamples = 132\\nvalue = [46, 86]\\nclass = >50K'),\n",
       " Text(627.75, 95.13, 'gini = 0.0\\nsamples = 69\\nvalue = [0, 69]\\nclass = >50K'),\n",
       " Text(767.25, 95.13, 'gini = 0.394\\nsamples = 63\\nvalue = [46, 17]\\nclass = <=50K'),\n",
       " Text(976.5, 285.39, 'age <= 20.5\\ngini = 0.026\\nsamples = 1063\\nvalue = [14, 1049]\\nclass = >50K'),\n",
       " Text(906.75, 95.13, 'gini = 0.444\\nsamples = 3\\nvalue = [2, 1]\\nclass = <=50K'),\n",
       " Text(1046.25, 95.13, 'gini = 0.022\\nsamples = 1060\\nvalue = [12, 1048]\\nclass = >50K')]"
      ]
     },
     "execution_count": 21,
     "metadata": {},
     "output_type": "execute_result"
    },
    {
     "data": {
      "image/png": "[encoded data removed]",
      "text/plain": [
       "<Figure size 1440x1008 with 1 Axes>"
      ]
     },
     "metadata": {
      "needs_background": "light"
     },
     "output_type": "display_data"
    }
   ],
   "source": [
    "plt.figure(figsize = (20,14))\n",
    "plot_tree(pipe_tree[1], feature_names = features, filled = True, class_names =['<=50K','>50K'])"
   ]
  },
  {
   "cell_type": "markdown",
   "id": "included-glossary",
   "metadata": {},
   "source": [
    "## Model Fitting and Evaluation: Adaptive Boosting"
   ]
  },
  {
   "cell_type": "markdown",
   "id": "brazilian-wheel",
   "metadata": {},
   "source": [
    "AdaBoost: default DecisionTree, max_depth = 1"
   ]
  },
  {
   "cell_type": "code",
   "execution_count": 22,
   "id": "dimensional-output",
   "metadata": {},
   "outputs": [],
   "source": [
    "tree = DecisionTreeClassifier(max_depth = 3) #harus define decision tree dengan max depth yang dicustom\n",
    "ada = AdaBoostClassifier(tree, n_estimators = 200, learning_rate = 0.1, random_state =10)\n",
    "\n",
    "pipe_ada = Pipeline([\n",
    "    ('transformer',transformer),\n",
    "    ('model',ada)\n",
    "])"
   ]
  },
  {
   "cell_type": "code",
   "execution_count": 23,
   "id": "atlantic-temple",
   "metadata": {},
   "outputs": [
    {
     "name": "stderr",
     "output_type": "stream",
     "text": [
      "/Users/marshaalexandra/opt/anaconda3/lib/python3.8/site-packages/category_encoders/utils.py:21: FutureWarning: is_categorical is deprecated and will be removed in a future version.  Use is_categorical_dtype instead\n",
      "  elif pd.api.types.is_categorical(cols):\n"
     ]
    },
    {
     "name": "stdout",
     "output_type": "stream",
     "text": [
      "              precision    recall  f1-score   support\n",
      "\n",
      "           0       0.89      0.94      0.92      6181\n",
      "           1       0.78      0.63      0.70      1960\n",
      "\n",
      "    accuracy                           0.87      8141\n",
      "   macro avg       0.84      0.79      0.81      8141\n",
      "weighted avg       0.86      0.87      0.86      8141\n",
      "\n"
     ]
    }
   ],
   "source": [
    "pipe_ada.fit(x_train, y_train)\n",
    "y_pred = pipe_ada.predict(x_test)\n",
    "print(classification_report(y_test,y_pred))"
   ]
  },
  {
   "cell_type": "markdown",
   "id": "downtown-fraud",
   "metadata": {},
   "source": [
    "## Model Properties: Feature Importance"
   ]
  },
  {
   "cell_type": "code",
   "execution_count": 24,
   "id": "pharmaceutical-shuttle",
   "metadata": {},
   "outputs": [
    {
     "data": {
      "text/html": [
       "<div>\n",
       "<style scoped>\n",
       "    .dataframe tbody tr th:only-of-type {\n",
       "        vertical-align: middle;\n",
       "    }\n",
       "\n",
       "    .dataframe tbody tr th {\n",
       "        vertical-align: top;\n",
       "    }\n",
       "\n",
       "    .dataframe thead th {\n",
       "        text-align: right;\n",
       "    }\n",
       "</style>\n",
       "<table border=\"1\" class=\"dataframe\">\n",
       "  <thead>\n",
       "    <tr style=\"text-align: right;\">\n",
       "      <th></th>\n",
       "      <th>imp</th>\n",
       "    </tr>\n",
       "  </thead>\n",
       "  <tbody>\n",
       "    <tr>\n",
       "      <th>x0_Not-in-family</th>\n",
       "      <td>0.009602</td>\n",
       "    </tr>\n",
       "    <tr>\n",
       "      <th>x0_Other-relative</th>\n",
       "      <td>0.009289</td>\n",
       "    </tr>\n",
       "    <tr>\n",
       "      <th>x0_Own-child</th>\n",
       "      <td>0.014575</td>\n",
       "    </tr>\n",
       "    <tr>\n",
       "      <th>x0_Unmarried</th>\n",
       "      <td>0.010174</td>\n",
       "    </tr>\n",
       "    <tr>\n",
       "      <th>x0_Wife</th>\n",
       "      <td>0.030319</td>\n",
       "    </tr>\n",
       "    <tr>\n",
       "      <th>x1_Asian-Pac-Islander</th>\n",
       "      <td>0.009420</td>\n",
       "    </tr>\n",
       "    <tr>\n",
       "      <th>x1_Black</th>\n",
       "      <td>0.011038</td>\n",
       "    </tr>\n",
       "    <tr>\n",
       "      <th>x1_Other</th>\n",
       "      <td>0.004983</td>\n",
       "    </tr>\n",
       "    <tr>\n",
       "      <th>x1_White</th>\n",
       "      <td>0.006060</td>\n",
       "    </tr>\n",
       "    <tr>\n",
       "      <th>x2_Male</th>\n",
       "      <td>0.025846</td>\n",
       "    </tr>\n",
       "    <tr>\n",
       "      <th>0_0</th>\n",
       "      <td>0.000000</td>\n",
       "    </tr>\n",
       "    <tr>\n",
       "      <th>0_1</th>\n",
       "      <td>0.000869</td>\n",
       "    </tr>\n",
       "    <tr>\n",
       "      <th>0_2</th>\n",
       "      <td>0.015890</td>\n",
       "    </tr>\n",
       "    <tr>\n",
       "      <th>0_3</th>\n",
       "      <td>0.016326</td>\n",
       "    </tr>\n",
       "    <tr>\n",
       "      <th>0_4</th>\n",
       "      <td>0.026408</td>\n",
       "    </tr>\n",
       "    <tr>\n",
       "      <th>1_0</th>\n",
       "      <td>0.000000</td>\n",
       "    </tr>\n",
       "    <tr>\n",
       "      <th>1_1</th>\n",
       "      <td>0.031385</td>\n",
       "    </tr>\n",
       "    <tr>\n",
       "      <th>1_2</th>\n",
       "      <td>0.043978</td>\n",
       "    </tr>\n",
       "    <tr>\n",
       "      <th>1_3</th>\n",
       "      <td>0.018631</td>\n",
       "    </tr>\n",
       "    <tr>\n",
       "      <th>2_0</th>\n",
       "      <td>0.000000</td>\n",
       "    </tr>\n",
       "    <tr>\n",
       "      <th>2_1</th>\n",
       "      <td>0.021197</td>\n",
       "    </tr>\n",
       "    <tr>\n",
       "      <th>2_2</th>\n",
       "      <td>0.031551</td>\n",
       "    </tr>\n",
       "    <tr>\n",
       "      <th>2_3</th>\n",
       "      <td>0.018076</td>\n",
       "    </tr>\n",
       "    <tr>\n",
       "      <th>2_4</th>\n",
       "      <td>0.043515</td>\n",
       "    </tr>\n",
       "    <tr>\n",
       "      <th>3_0</th>\n",
       "      <td>0.000000</td>\n",
       "    </tr>\n",
       "    <tr>\n",
       "      <th>3_1</th>\n",
       "      <td>0.005593</td>\n",
       "    </tr>\n",
       "    <tr>\n",
       "      <th>3_2</th>\n",
       "      <td>0.002410</td>\n",
       "    </tr>\n",
       "    <tr>\n",
       "      <th>3_3</th>\n",
       "      <td>0.000850</td>\n",
       "    </tr>\n",
       "    <tr>\n",
       "      <th>3_4</th>\n",
       "      <td>0.008179</td>\n",
       "    </tr>\n",
       "    <tr>\n",
       "      <th>3_5</th>\n",
       "      <td>0.003990</td>\n",
       "    </tr>\n",
       "    <tr>\n",
       "      <th>3_6</th>\n",
       "      <td>0.001853</td>\n",
       "    </tr>\n",
       "    <tr>\n",
       "      <th>age</th>\n",
       "      <td>0.163261</td>\n",
       "    </tr>\n",
       "    <tr>\n",
       "      <th>education.num</th>\n",
       "      <td>0.107989</td>\n",
       "    </tr>\n",
       "    <tr>\n",
       "      <th>capital.gain</th>\n",
       "      <td>0.104380</td>\n",
       "    </tr>\n",
       "    <tr>\n",
       "      <th>capital.loss</th>\n",
       "      <td>0.070865</td>\n",
       "    </tr>\n",
       "    <tr>\n",
       "      <th>hours.per.week</th>\n",
       "      <td>0.131495</td>\n",
       "    </tr>\n",
       "  </tbody>\n",
       "</table>\n",
       "</div>"
      ],
      "text/plain": [
       "                            imp\n",
       "x0_Not-in-family       0.009602\n",
       "x0_Other-relative      0.009289\n",
       "x0_Own-child           0.014575\n",
       "x0_Unmarried           0.010174\n",
       "x0_Wife                0.030319\n",
       "x1_Asian-Pac-Islander  0.009420\n",
       "x1_Black               0.011038\n",
       "x1_Other               0.004983\n",
       "x1_White               0.006060\n",
       "x2_Male                0.025846\n",
       "0_0                    0.000000\n",
       "0_1                    0.000869\n",
       "0_2                    0.015890\n",
       "0_3                    0.016326\n",
       "0_4                    0.026408\n",
       "1_0                    0.000000\n",
       "1_1                    0.031385\n",
       "1_2                    0.043978\n",
       "1_3                    0.018631\n",
       "2_0                    0.000000\n",
       "2_1                    0.021197\n",
       "2_2                    0.031551\n",
       "2_3                    0.018076\n",
       "2_4                    0.043515\n",
       "3_0                    0.000000\n",
       "3_1                    0.005593\n",
       "3_2                    0.002410\n",
       "3_3                    0.000850\n",
       "3_4                    0.008179\n",
       "3_5                    0.003990\n",
       "3_6                    0.001853\n",
       "age                    0.163261\n",
       "education.num          0.107989\n",
       "capital.gain           0.104380\n",
       "capital.loss           0.070865\n",
       "hours.per.week         0.131495"
      ]
     },
     "execution_count": 24,
     "metadata": {},
     "output_type": "execute_result"
    }
   ],
   "source": [
    "importance_tab = pd.DataFrame({'imp':pipe_ada[1].feature_importances_},index= features)\n",
    "importance_tab"
   ]
  },
  {
   "cell_type": "code",
   "execution_count": 25,
   "id": "theoretical-asset",
   "metadata": {},
   "outputs": [
    {
     "data": {
      "text/plain": [
       "<AxesSubplot:>"
      ]
     },
     "execution_count": 25,
     "metadata": {},
     "output_type": "execute_result"
    },
    {
     "data": {
      "image/png": "[encoded data removed]",
      "text/plain": [
       "<Figure size 1440x1008 with 1 Axes>"
      ]
     },
     "metadata": {
      "needs_background": "light"
     },
     "output_type": "display_data"
    }
   ],
   "source": [
    "importance_tab.sort_values('imp').plot(kind='barh',figsize = (20,14))"
   ]
  },
  {
   "cell_type": "markdown",
   "id": "capable-sharp",
   "metadata": {},
   "source": [
    "## Model Fitting and Evaluation: Gradient Boosting"
   ]
  },
  {
   "cell_type": "code",
   "execution_count": 26,
   "id": "greatest-burner",
   "metadata": {},
   "outputs": [],
   "source": [
    "grad = GradientBoostingClassifier(max_depth = 3, #bisa langsung masukkin max_depth\n",
    "                                   n_estimators = 200, \n",
    "                                   learning_rate = 0.1, random_state = 10)\n",
    "pipe_grad = Pipeline([\n",
    "    ('transformer',transformer),\n",
    "    ('model',grad)\n",
    "])"
   ]
  },
  {
   "cell_type": "code",
   "execution_count": 27,
   "id": "wired-papua",
   "metadata": {},
   "outputs": [
    {
     "name": "stderr",
     "output_type": "stream",
     "text": [
      "/Users/marshaalexandra/opt/anaconda3/lib/python3.8/site-packages/category_encoders/utils.py:21: FutureWarning: is_categorical is deprecated and will be removed in a future version.  Use is_categorical_dtype instead\n",
      "  elif pd.api.types.is_categorical(cols):\n"
     ]
    },
    {
     "name": "stdout",
     "output_type": "stream",
     "text": [
      "              precision    recall  f1-score   support\n",
      "\n",
      "           0       0.88      0.95      0.92      6181\n",
      "           1       0.79      0.61      0.69      1960\n",
      "\n",
      "    accuracy                           0.87      8141\n",
      "   macro avg       0.84      0.78      0.80      8141\n",
      "weighted avg       0.86      0.87      0.86      8141\n",
      "\n"
     ]
    }
   ],
   "source": [
    "pipe_grad.fit(x_train, y_train)\n",
    "y_pred = pipe_grad.predict(x_test)\n",
    "print(classification_report(y_test,y_pred))"
   ]
  },
  {
   "cell_type": "markdown",
   "id": "generic-begin",
   "metadata": {},
   "source": [
    "## Model Properties: Feature Importance"
   ]
  },
  {
   "cell_type": "code",
   "execution_count": 28,
   "id": "allied-consumption",
   "metadata": {},
   "outputs": [
    {
     "data": {
      "text/html": [
       "<div>\n",
       "<style scoped>\n",
       "    .dataframe tbody tr th:only-of-type {\n",
       "        vertical-align: middle;\n",
       "    }\n",
       "\n",
       "    .dataframe tbody tr th {\n",
       "        vertical-align: top;\n",
       "    }\n",
       "\n",
       "    .dataframe thead th {\n",
       "        text-align: right;\n",
       "    }\n",
       "</style>\n",
       "<table border=\"1\" class=\"dataframe\">\n",
       "  <thead>\n",
       "    <tr style=\"text-align: right;\">\n",
       "      <th></th>\n",
       "      <th>imp</th>\n",
       "    </tr>\n",
       "  </thead>\n",
       "  <tbody>\n",
       "    <tr>\n",
       "      <th>x0_Not-in-family</th>\n",
       "      <td>0.004850</td>\n",
       "    </tr>\n",
       "    <tr>\n",
       "      <th>x0_Other-relative</th>\n",
       "      <td>0.000241</td>\n",
       "    </tr>\n",
       "    <tr>\n",
       "      <th>x0_Own-child</th>\n",
       "      <td>0.001212</td>\n",
       "    </tr>\n",
       "    <tr>\n",
       "      <th>x0_Unmarried</th>\n",
       "      <td>0.001823</td>\n",
       "    </tr>\n",
       "    <tr>\n",
       "      <th>x0_Wife</th>\n",
       "      <td>0.008601</td>\n",
       "    </tr>\n",
       "    <tr>\n",
       "      <th>x1_Asian-Pac-Islander</th>\n",
       "      <td>0.000321</td>\n",
       "    </tr>\n",
       "    <tr>\n",
       "      <th>x1_Black</th>\n",
       "      <td>0.000388</td>\n",
       "    </tr>\n",
       "    <tr>\n",
       "      <th>x1_Other</th>\n",
       "      <td>0.000033</td>\n",
       "    </tr>\n",
       "    <tr>\n",
       "      <th>x1_White</th>\n",
       "      <td>0.000492</td>\n",
       "    </tr>\n",
       "    <tr>\n",
       "      <th>x2_Male</th>\n",
       "      <td>0.009060</td>\n",
       "    </tr>\n",
       "    <tr>\n",
       "      <th>0_0</th>\n",
       "      <td>0.000000</td>\n",
       "    </tr>\n",
       "    <tr>\n",
       "      <th>0_1</th>\n",
       "      <td>0.000000</td>\n",
       "    </tr>\n",
       "    <tr>\n",
       "      <th>0_2</th>\n",
       "      <td>0.002273</td>\n",
       "    </tr>\n",
       "    <tr>\n",
       "      <th>0_3</th>\n",
       "      <td>0.002121</td>\n",
       "    </tr>\n",
       "    <tr>\n",
       "      <th>0_4</th>\n",
       "      <td>0.004507</td>\n",
       "    </tr>\n",
       "    <tr>\n",
       "      <th>1_0</th>\n",
       "      <td>0.000000</td>\n",
       "    </tr>\n",
       "    <tr>\n",
       "      <th>1_1</th>\n",
       "      <td>0.088163</td>\n",
       "    </tr>\n",
       "    <tr>\n",
       "      <th>1_2</th>\n",
       "      <td>0.183462</td>\n",
       "    </tr>\n",
       "    <tr>\n",
       "      <th>1_3</th>\n",
       "      <td>0.018888</td>\n",
       "    </tr>\n",
       "    <tr>\n",
       "      <th>2_0</th>\n",
       "      <td>0.000000</td>\n",
       "    </tr>\n",
       "    <tr>\n",
       "      <th>2_1</th>\n",
       "      <td>0.011582</td>\n",
       "    </tr>\n",
       "    <tr>\n",
       "      <th>2_2</th>\n",
       "      <td>0.001527</td>\n",
       "    </tr>\n",
       "    <tr>\n",
       "      <th>2_3</th>\n",
       "      <td>0.003727</td>\n",
       "    </tr>\n",
       "    <tr>\n",
       "      <th>2_4</th>\n",
       "      <td>0.026614</td>\n",
       "    </tr>\n",
       "    <tr>\n",
       "      <th>3_0</th>\n",
       "      <td>0.000000</td>\n",
       "    </tr>\n",
       "    <tr>\n",
       "      <th>3_1</th>\n",
       "      <td>0.000070</td>\n",
       "    </tr>\n",
       "    <tr>\n",
       "      <th>3_2</th>\n",
       "      <td>0.000034</td>\n",
       "    </tr>\n",
       "    <tr>\n",
       "      <th>3_3</th>\n",
       "      <td>0.000204</td>\n",
       "    </tr>\n",
       "    <tr>\n",
       "      <th>3_4</th>\n",
       "      <td>0.001077</td>\n",
       "    </tr>\n",
       "    <tr>\n",
       "      <th>3_5</th>\n",
       "      <td>0.000541</td>\n",
       "    </tr>\n",
       "    <tr>\n",
       "      <th>3_6</th>\n",
       "      <td>0.000113</td>\n",
       "    </tr>\n",
       "    <tr>\n",
       "      <th>age</th>\n",
       "      <td>0.060009</td>\n",
       "    </tr>\n",
       "    <tr>\n",
       "      <th>education.num</th>\n",
       "      <td>0.180131</td>\n",
       "    </tr>\n",
       "    <tr>\n",
       "      <th>capital.gain</th>\n",
       "      <td>0.281196</td>\n",
       "    </tr>\n",
       "    <tr>\n",
       "      <th>capital.loss</th>\n",
       "      <td>0.061819</td>\n",
       "    </tr>\n",
       "    <tr>\n",
       "      <th>hours.per.week</th>\n",
       "      <td>0.044923</td>\n",
       "    </tr>\n",
       "  </tbody>\n",
       "</table>\n",
       "</div>"
      ],
      "text/plain": [
       "                            imp\n",
       "x0_Not-in-family       0.004850\n",
       "x0_Other-relative      0.000241\n",
       "x0_Own-child           0.001212\n",
       "x0_Unmarried           0.001823\n",
       "x0_Wife                0.008601\n",
       "x1_Asian-Pac-Islander  0.000321\n",
       "x1_Black               0.000388\n",
       "x1_Other               0.000033\n",
       "x1_White               0.000492\n",
       "x2_Male                0.009060\n",
       "0_0                    0.000000\n",
       "0_1                    0.000000\n",
       "0_2                    0.002273\n",
       "0_3                    0.002121\n",
       "0_4                    0.004507\n",
       "1_0                    0.000000\n",
       "1_1                    0.088163\n",
       "1_2                    0.183462\n",
       "1_3                    0.018888\n",
       "2_0                    0.000000\n",
       "2_1                    0.011582\n",
       "2_2                    0.001527\n",
       "2_3                    0.003727\n",
       "2_4                    0.026614\n",
       "3_0                    0.000000\n",
       "3_1                    0.000070\n",
       "3_2                    0.000034\n",
       "3_3                    0.000204\n",
       "3_4                    0.001077\n",
       "3_5                    0.000541\n",
       "3_6                    0.000113\n",
       "age                    0.060009\n",
       "education.num          0.180131\n",
       "capital.gain           0.281196\n",
       "capital.loss           0.061819\n",
       "hours.per.week         0.044923"
      ]
     },
     "execution_count": 28,
     "metadata": {},
     "output_type": "execute_result"
    }
   ],
   "source": [
    "importance_tab = pd.DataFrame({'imp':pipe_grad[1].feature_importances_},index= features)\n",
    "importance_tab"
   ]
  },
  {
   "cell_type": "code",
   "execution_count": 29,
   "id": "satisfied-vertex",
   "metadata": {},
   "outputs": [
    {
     "data": {
      "text/plain": [
       "<AxesSubplot:>"
      ]
     },
     "execution_count": 29,
     "metadata": {},
     "output_type": "execute_result"
    },
    {
     "data": {
      "image/png": "[encoded data removed]",
      "text/plain": [
       "<Figure size 1440x1008 with 1 Axes>"
      ]
     },
     "metadata": {
      "needs_background": "light"
     },
     "output_type": "display_data"
    }
   ],
   "source": [
    "importance_tab.sort_values('imp').plot(kind='barh',figsize = (20,14))"
   ]
  },
  {
   "cell_type": "markdown",
   "id": "monthly-weekly",
   "metadata": {},
   "source": [
    "## Model Fitting and Evaluation: Extreme Gradient Boosting"
   ]
  },
  {
   "cell_type": "code",
   "execution_count": 30,
   "id": "interim-czech",
   "metadata": {},
   "outputs": [],
   "source": [
    "skfold = StratifiedKFold(n_splits = 5)"
   ]
  },
  {
   "cell_type": "code",
   "execution_count": 31,
   "id": "passive-audio",
   "metadata": {},
   "outputs": [],
   "source": [
    "xgb = XGBClassifier(max_depth = 3,\n",
    "                    n_estimators = 200, \n",
    "                    learning_rate = 0.1, \n",
    "                      random_state = 10)\n",
    "\n",
    "pipe_xgb = Pipeline([\n",
    "    ('transformer',transformer),\n",
    "    ('model',xgb)\n",
    "])"
   ]
  },
  {
   "cell_type": "code",
   "execution_count": 32,
   "id": "banner-browser",
   "metadata": {},
   "outputs": [
    {
     "name": "stderr",
     "output_type": "stream",
     "text": [
      "/Users/marshaalexandra/opt/anaconda3/lib/python3.8/site-packages/category_encoders/utils.py:21: FutureWarning: is_categorical is deprecated and will be removed in a future version.  Use is_categorical_dtype instead\n",
      "  elif pd.api.types.is_categorical(cols):\n",
      "/Users/marshaalexandra/opt/anaconda3/lib/python3.8/site-packages/xgboost/sklearn.py:888: UserWarning: The use of label encoder in XGBClassifier is deprecated and will be removed in a future release. To remove this warning, do the following: 1) Pass option use_label_encoder=False when constructing XGBClassifier object; and 2) Encode your labels (y) as integers starting with 0, i.e. 0, 1, 2, ..., [num_class - 1].\n",
      "  warnings.warn(label_encoder_deprecation_msg, UserWarning)\n"
     ]
    },
    {
     "name": "stdout",
     "output_type": "stream",
     "text": [
      "[11:11:32] WARNING: /Users/travis/build/dmlc/xgboost/src/learner.cc:1061: Starting in XGBoost 1.3.0, the default evaluation metric used with the objective 'binary:logistic' was changed from 'error' to 'logloss'. Explicitly set eval_metric if you'd like to restore the old behavior.\n",
      "              precision    recall  f1-score   support\n",
      "\n",
      "           0       0.89      0.95      0.92      6181\n",
      "           1       0.79      0.61      0.69      1960\n",
      "\n",
      "    accuracy                           0.87      8141\n",
      "   macro avg       0.84      0.78      0.80      8141\n",
      "weighted avg       0.86      0.87      0.86      8141\n",
      "\n"
     ]
    }
   ],
   "source": [
    "pipe_xgb.fit(x_train, y_train)\n",
    "y_pred = pipe_xgb.predict(x_test)\n",
    "print(classification_report(y_test,y_pred))"
   ]
  },
  {
   "cell_type": "markdown",
   "id": "enabling-guess",
   "metadata": {},
   "source": [
    "## Model Properties: Feature Importance"
   ]
  },
  {
   "cell_type": "code",
   "execution_count": 33,
   "id": "planned-mounting",
   "metadata": {},
   "outputs": [
    {
     "data": {
      "text/html": [
       "<div>\n",
       "<style scoped>\n",
       "    .dataframe tbody tr th:only-of-type {\n",
       "        vertical-align: middle;\n",
       "    }\n",
       "\n",
       "    .dataframe tbody tr th {\n",
       "        vertical-align: top;\n",
       "    }\n",
       "\n",
       "    .dataframe thead th {\n",
       "        text-align: right;\n",
       "    }\n",
       "</style>\n",
       "<table border=\"1\" class=\"dataframe\">\n",
       "  <thead>\n",
       "    <tr style=\"text-align: right;\">\n",
       "      <th></th>\n",
       "      <th>imp</th>\n",
       "    </tr>\n",
       "  </thead>\n",
       "  <tbody>\n",
       "    <tr>\n",
       "      <th>x0_Not-in-family</th>\n",
       "      <td>0.019065</td>\n",
       "    </tr>\n",
       "    <tr>\n",
       "      <th>x0_Other-relative</th>\n",
       "      <td>0.005950</td>\n",
       "    </tr>\n",
       "    <tr>\n",
       "      <th>x0_Own-child</th>\n",
       "      <td>0.032394</td>\n",
       "    </tr>\n",
       "    <tr>\n",
       "      <th>x0_Unmarried</th>\n",
       "      <td>0.007194</td>\n",
       "    </tr>\n",
       "    <tr>\n",
       "      <th>x0_Wife</th>\n",
       "      <td>0.013635</td>\n",
       "    </tr>\n",
       "    <tr>\n",
       "      <th>x1_Asian-Pac-Islander</th>\n",
       "      <td>0.003121</td>\n",
       "    </tr>\n",
       "    <tr>\n",
       "      <th>x1_Black</th>\n",
       "      <td>0.003516</td>\n",
       "    </tr>\n",
       "    <tr>\n",
       "      <th>x1_Other</th>\n",
       "      <td>0.002723</td>\n",
       "    </tr>\n",
       "    <tr>\n",
       "      <th>x1_White</th>\n",
       "      <td>0.004893</td>\n",
       "    </tr>\n",
       "    <tr>\n",
       "      <th>x2_Male</th>\n",
       "      <td>0.023829</td>\n",
       "    </tr>\n",
       "    <tr>\n",
       "      <th>0_0</th>\n",
       "      <td>0.000000</td>\n",
       "    </tr>\n",
       "    <tr>\n",
       "      <th>0_1</th>\n",
       "      <td>0.000000</td>\n",
       "    </tr>\n",
       "    <tr>\n",
       "      <th>0_2</th>\n",
       "      <td>0.005784</td>\n",
       "    </tr>\n",
       "    <tr>\n",
       "      <th>0_3</th>\n",
       "      <td>0.016309</td>\n",
       "    </tr>\n",
       "    <tr>\n",
       "      <th>0_4</th>\n",
       "      <td>0.009972</td>\n",
       "    </tr>\n",
       "    <tr>\n",
       "      <th>1_0</th>\n",
       "      <td>0.000000</td>\n",
       "    </tr>\n",
       "    <tr>\n",
       "      <th>1_1</th>\n",
       "      <td>0.147760</td>\n",
       "    </tr>\n",
       "    <tr>\n",
       "      <th>1_2</th>\n",
       "      <td>0.312950</td>\n",
       "    </tr>\n",
       "    <tr>\n",
       "      <th>1_3</th>\n",
       "      <td>0.035756</td>\n",
       "    </tr>\n",
       "    <tr>\n",
       "      <th>2_0</th>\n",
       "      <td>0.000000</td>\n",
       "    </tr>\n",
       "    <tr>\n",
       "      <th>2_1</th>\n",
       "      <td>0.028682</td>\n",
       "    </tr>\n",
       "    <tr>\n",
       "      <th>2_2</th>\n",
       "      <td>0.008627</td>\n",
       "    </tr>\n",
       "    <tr>\n",
       "      <th>2_3</th>\n",
       "      <td>0.013345</td>\n",
       "    </tr>\n",
       "    <tr>\n",
       "      <th>2_4</th>\n",
       "      <td>0.066958</td>\n",
       "    </tr>\n",
       "    <tr>\n",
       "      <th>3_0</th>\n",
       "      <td>0.000000</td>\n",
       "    </tr>\n",
       "    <tr>\n",
       "      <th>3_1</th>\n",
       "      <td>0.001717</td>\n",
       "    </tr>\n",
       "    <tr>\n",
       "      <th>3_2</th>\n",
       "      <td>0.002101</td>\n",
       "    </tr>\n",
       "    <tr>\n",
       "      <th>3_3</th>\n",
       "      <td>0.004015</td>\n",
       "    </tr>\n",
       "    <tr>\n",
       "      <th>3_4</th>\n",
       "      <td>0.008364</td>\n",
       "    </tr>\n",
       "    <tr>\n",
       "      <th>3_5</th>\n",
       "      <td>0.004536</td>\n",
       "    </tr>\n",
       "    <tr>\n",
       "      <th>3_6</th>\n",
       "      <td>0.002867</td>\n",
       "    </tr>\n",
       "    <tr>\n",
       "      <th>age</th>\n",
       "      <td>0.032430</td>\n",
       "    </tr>\n",
       "    <tr>\n",
       "      <th>education.num</th>\n",
       "      <td>0.077019</td>\n",
       "    </tr>\n",
       "    <tr>\n",
       "      <th>capital.gain</th>\n",
       "      <td>0.059506</td>\n",
       "    </tr>\n",
       "    <tr>\n",
       "      <th>capital.loss</th>\n",
       "      <td>0.023791</td>\n",
       "    </tr>\n",
       "    <tr>\n",
       "      <th>hours.per.week</th>\n",
       "      <td>0.021191</td>\n",
       "    </tr>\n",
       "  </tbody>\n",
       "</table>\n",
       "</div>"
      ],
      "text/plain": [
       "                            imp\n",
       "x0_Not-in-family       0.019065\n",
       "x0_Other-relative      0.005950\n",
       "x0_Own-child           0.032394\n",
       "x0_Unmarried           0.007194\n",
       "x0_Wife                0.013635\n",
       "x1_Asian-Pac-Islander  0.003121\n",
       "x1_Black               0.003516\n",
       "x1_Other               0.002723\n",
       "x1_White               0.004893\n",
       "x2_Male                0.023829\n",
       "0_0                    0.000000\n",
       "0_1                    0.000000\n",
       "0_2                    0.005784\n",
       "0_3                    0.016309\n",
       "0_4                    0.009972\n",
       "1_0                    0.000000\n",
       "1_1                    0.147760\n",
       "1_2                    0.312950\n",
       "1_3                    0.035756\n",
       "2_0                    0.000000\n",
       "2_1                    0.028682\n",
       "2_2                    0.008627\n",
       "2_3                    0.013345\n",
       "2_4                    0.066958\n",
       "3_0                    0.000000\n",
       "3_1                    0.001717\n",
       "3_2                    0.002101\n",
       "3_3                    0.004015\n",
       "3_4                    0.008364\n",
       "3_5                    0.004536\n",
       "3_6                    0.002867\n",
       "age                    0.032430\n",
       "education.num          0.077019\n",
       "capital.gain           0.059506\n",
       "capital.loss           0.023791\n",
       "hours.per.week         0.021191"
      ]
     },
     "execution_count": 33,
     "metadata": {},
     "output_type": "execute_result"
    }
   ],
   "source": [
    "importance_tab = pd.DataFrame({'imp':pipe_xgb[1].feature_importances_},index= features)\n",
    "importance_tab"
   ]
  },
  {
   "cell_type": "code",
   "execution_count": 34,
   "id": "basic-eating",
   "metadata": {},
   "outputs": [
    {
     "data": {
      "text/plain": [
       "<AxesSubplot:>"
      ]
     },
     "execution_count": 34,
     "metadata": {},
     "output_type": "execute_result"
    },
    {
     "data": {
      "image/png": "[encoded data removed]",
      "text/plain": [
       "<Figure size 1440x1008 with 1 Axes>"
      ]
     },
     "metadata": {
      "needs_background": "light"
     },
     "output_type": "display_data"
    }
   ],
   "source": [
    "importance_tab.sort_values('imp').plot(kind='barh',figsize = (20,14))"
   ]
  },
  {
   "cell_type": "markdown",
   "id": "civic-internship",
   "metadata": {},
   "source": [
    "#### Boosting ga bisa bikin pohon kaya Decision Tree --> Interpretasi tidak sebagus Decision Tree. Namun evaluasinya lebih bagus dibanding Decision Tree"
   ]
  },
  {
   "cell_type": "markdown",
   "id": "shared-treasure",
   "metadata": {},
   "source": [
    "Tugas: \n",
    "\n",
    "Pilihlah model terbaik dari 4 model di berikut sebagai benchmark model:\n",
    "* Decision Tree\n",
    "* Adaboost\n",
    "* gradient boost\n",
    "* XGboost  \n",
    "\n",
    "Lakukan hyperparameter tunning dengan hyperparameter berikut:\n",
    "\n",
    "hyperparam_space = [  \n",
    "                    {'clf__learning_rate':[0.1],'clf__n_estimators':[200],'clf__base_estimator__max_depth':[3,4,5]},  \n",
    "                    {'clf__learning_rate':[0.05],'clf__n_estimators':[400],'clf__base_estimator__max_depth':[3,4,5]},  \n",
    "                    {'clf__learning_rate':[0.01],'clf__n_estimators':[2000],'clf__base_estimator__max_depth':[3,4,5]},  \n",
    "                    {'clf__learning_rate':[0.005],'clf__n_estimators':[4000],'clf__base_estimator__max_depth':[3,4,5]}]  \n",
    "\n",
    "Gunakan f1 score sebagai metric evaluasi\n",
    "\n",
    "Kalian bisa upload tugas yg sudak kalian buat ke github kalian dan email link github kalian ke: Brigita.gems@gmail.com untuk feedback."
   ]
  },
  {
   "cell_type": "markdown",
   "id": "honest-freeze",
   "metadata": {},
   "source": [
    "## Model Evaluation"
   ]
  },
  {
   "cell_type": "code",
   "execution_count": 35,
   "id": "micro-excerpt",
   "metadata": {},
   "outputs": [],
   "source": [
    "import warnings\n",
    "warnings.filterwarnings('ignore')\n"
   ]
  },
  {
   "cell_type": "code",
   "execution_count": 36,
   "id": "bright-integration",
   "metadata": {},
   "outputs": [],
   "source": [
    "estimator= Pipeline([\n",
    "    ('transformer', transformer),\n",
    "    ('model',tree)\n",
    "])"
   ]
  },
  {
   "cell_type": "code",
   "execution_count": 37,
   "id": "mighty-integer",
   "metadata": {},
   "outputs": [],
   "source": [
    "def model_evaluation (model):\n",
    "    skfold = StratifiedKFold(n_splits = 5)\n",
    "    estimator=Pipeline([\n",
    "        ('preprocess', transformer),\n",
    "        ('model',model)\n",
    "    ])\n",
    "    model_cv = cross_val_score(estimator,x_train,y_train, cv = skfold, scoring = 'f1')\n",
    "    return model_cv"
   ]
  },
  {
   "cell_type": "code",
   "execution_count": 38,
   "id": "imposed-marking",
   "metadata": {},
   "outputs": [],
   "source": [
    "def print_result(model_cv):\n",
    "    print('CV score',model_cv)\n",
    "    print('CV score mean', model_cv.mean())\n",
    "    print('CV score std', model_cv.std())"
   ]
  },
  {
   "cell_type": "code",
   "execution_count": 39,
   "id": "ongoing-banking",
   "metadata": {},
   "outputs": [
    {
     "name": "stdout",
     "output_type": "stream",
     "text": [
      "CV score [0.61469265 0.59515899 0.59924027 0.60761905 0.61179829]\n",
      "CV score mean 0.6057018496749238\n",
      "CV score std 0.007410541558040793\n"
     ]
    }
   ],
   "source": [
    "model= tree\n",
    "\n",
    "model_cv=model_evaluation(model)\n",
    "print_result(model_cv)"
   ]
  },
  {
   "cell_type": "code",
   "execution_count": 40,
   "id": "directed-marketing",
   "metadata": {},
   "outputs": [
    {
     "name": "stdout",
     "output_type": "stream",
     "text": [
      "CV score [0.7099768  0.70676692 0.68682097 0.69818529 0.72685398]\n",
      "CV score mean 0.7057207928319411\n",
      "CV score std 0.013265042110214115\n"
     ]
    }
   ],
   "source": [
    "model= ada\n",
    "\n",
    "model_cv=model_evaluation(model)\n",
    "print_result(model_cv)"
   ]
  },
  {
   "cell_type": "code",
   "execution_count": 41,
   "id": "ethical-lying",
   "metadata": {},
   "outputs": [
    {
     "name": "stdout",
     "output_type": "stream",
     "text": [
      "CV score [0.69121813 0.69656489 0.68241966 0.70076482 0.72191011]\n",
      "CV score mean 0.6985755212516678\n",
      "CV score std 0.013179392117256446\n"
     ]
    }
   ],
   "source": [
    "model= grad\n",
    "\n",
    "model_cv=model_evaluation(model)\n",
    "print_result(model_cv)"
   ]
  },
  {
   "cell_type": "code",
   "execution_count": 42,
   "id": "moved-bulgarian",
   "metadata": {},
   "outputs": [
    {
     "name": "stdout",
     "output_type": "stream",
     "text": [
      "[11:13:12] WARNING: /Users/travis/build/dmlc/xgboost/src/learner.cc:1061: Starting in XGBoost 1.3.0, the default evaluation metric used with the objective 'binary:logistic' was changed from 'error' to 'logloss'. Explicitly set eval_metric if you'd like to restore the old behavior.\n",
      "[11:13:14] WARNING: /Users/travis/build/dmlc/xgboost/src/learner.cc:1061: Starting in XGBoost 1.3.0, the default evaluation metric used with the objective 'binary:logistic' was changed from 'error' to 'logloss'. Explicitly set eval_metric if you'd like to restore the old behavior.\n",
      "[11:13:17] WARNING: /Users/travis/build/dmlc/xgboost/src/learner.cc:1061: Starting in XGBoost 1.3.0, the default evaluation metric used with the objective 'binary:logistic' was changed from 'error' to 'logloss'. Explicitly set eval_metric if you'd like to restore the old behavior.\n",
      "[11:13:20] WARNING: /Users/travis/build/dmlc/xgboost/src/learner.cc:1061: Starting in XGBoost 1.3.0, the default evaluation metric used with the objective 'binary:logistic' was changed from 'error' to 'logloss'. Explicitly set eval_metric if you'd like to restore the old behavior.\n",
      "[11:13:23] WARNING: /Users/travis/build/dmlc/xgboost/src/learner.cc:1061: Starting in XGBoost 1.3.0, the default evaluation metric used with the objective 'binary:logistic' was changed from 'error' to 'logloss'. Explicitly set eval_metric if you'd like to restore the old behavior.\n",
      "CV score [0.69971936 0.69656489 0.67992424 0.69615385 0.72201493]\n",
      "CV score mean 0.6988754526677787\n",
      "CV score std 0.01347621323370367\n"
     ]
    }
   ],
   "source": [
    "model= xgb\n",
    "\n",
    "model_cv=model_evaluation(model)\n",
    "print_result(model_cv)"
   ]
  },
  {
   "cell_type": "markdown",
   "id": "positive-shade",
   "metadata": {},
   "source": [
    "**Berdasarkan hasil cross validation, Adaptive Boosting memiiki performa terbaik dan akan digunakan sebagai benchmark**"
   ]
  },
  {
   "cell_type": "markdown",
   "id": "narrative-gazette",
   "metadata": {},
   "source": [
    "## Model Performance in Test Set"
   ]
  },
  {
   "cell_type": "code",
   "execution_count": 43,
   "id": "blocked-beatles",
   "metadata": {},
   "outputs": [],
   "source": [
    "tree = DecisionTreeClassifier(max_depth = 3) #harus define decision tree dengan max depth yang dicustom\n",
    "ada = AdaBoostClassifier(tree, n_estimators = 200, learning_rate = 0.1, random_state =10)\n",
    "\n",
    "pipe_ada = Pipeline([\n",
    "    ('transformer',transformer),\n",
    "    ('model',ada)\n",
    "])"
   ]
  },
  {
   "cell_type": "code",
   "execution_count": 44,
   "id": "smooth-collins",
   "metadata": {},
   "outputs": [
    {
     "name": "stdout",
     "output_type": "stream",
     "text": [
      "              precision    recall  f1-score   support\n",
      "\n",
      "           0       0.89      0.94      0.92      6181\n",
      "           1       0.78      0.63      0.70      1960\n",
      "\n",
      "    accuracy                           0.87      8141\n",
      "   macro avg       0.84      0.79      0.81      8141\n",
      "weighted avg       0.86      0.87      0.86      8141\n",
      "\n"
     ]
    }
   ],
   "source": [
    "pipe_ada.fit(x_train, y_train)\n",
    "y_pred = pipe_ada.predict(x_test)\n",
    "print(classification_report(y_test,y_pred))"
   ]
  },
  {
   "cell_type": "code",
   "execution_count": 45,
   "id": "functional-military",
   "metadata": {},
   "outputs": [
    {
     "data": {
      "text/plain": [
       "0.6957507082152975"
      ]
     },
     "execution_count": 45,
     "metadata": {},
     "output_type": "execute_result"
    }
   ],
   "source": [
    "f1_score(y_test,y_pred)"
   ]
  },
  {
   "cell_type": "code",
   "execution_count": 46,
   "id": "regular-vegetable",
   "metadata": {},
   "outputs": [
    {
     "data": {
      "text/plain": [
       "<sklearn.metrics._plot.precision_recall_curve.PrecisionRecallDisplay at 0x7febfa5cb820>"
      ]
     },
     "execution_count": 46,
     "metadata": {},
     "output_type": "execute_result"
    },
    {
     "data": {
      "image/png": "[encoded data removed]",
      "text/plain": [
       "<Figure size 432x288 with 1 Axes>"
      ]
     },
     "metadata": {
      "needs_background": "light"
     },
     "output_type": "display_data"
    }
   ],
   "source": [
    "plot_precision_recall_curve(pipe_ada,x_test,y_test)"
   ]
  },
  {
   "cell_type": "code",
   "execution_count": 47,
   "id": "julian-radiation",
   "metadata": {},
   "outputs": [
    {
     "data": {
      "text/plain": [
       "<sklearn.metrics._plot.roc_curve.RocCurveDisplay at 0x7fec00425e80>"
      ]
     },
     "execution_count": 47,
     "metadata": {},
     "output_type": "execute_result"
    },
    {
     "data": {
      "image/png": "[encoded data removed]",
      "text/plain": [
       "<Figure size 432x288 with 1 Axes>"
      ]
     },
     "metadata": {
      "needs_background": "light"
     },
     "output_type": "display_data"
    }
   ],
   "source": [
    "plot_roc_curve(pipe_ada, x_test,y_test)"
   ]
  },
  {
   "cell_type": "markdown",
   "id": "functioning-peeing",
   "metadata": {},
   "source": [
    "## Hyperparameter Tuning"
   ]
  },
  {
   "cell_type": "code",
   "execution_count": 48,
   "id": "measured-portuguese",
   "metadata": {},
   "outputs": [],
   "source": [
    "tree = DecisionTreeClassifier(max_depth = 3) #harus define decision tree dengan max depth yang dicustom\n",
    "ada = AdaBoostClassifier(tree, n_estimators = 200, learning_rate = 0.1, random_state =10)\n",
    "\n",
    "pipe_ada = Pipeline([\n",
    "    ('transformer',transformer),\n",
    "    ('model',ada)\n",
    "])"
   ]
  },
  {
   "cell_type": "code",
   "execution_count": 49,
   "id": "extended-publisher",
   "metadata": {},
   "outputs": [],
   "source": [
    "hyperparam_space = [\n",
    "{'model__learning_rate':[0.1],'model__n_estimators':[200],'model__base_estimator__max_depth':[3,4,5]},\n",
    "{'model__learning_rate':[0.05],'model__n_estimators':[400],'model__base_estimator__max_depth':[3,4,5]},\n",
    "{'model__learning_rate':[0.01],'model__n_estimators':[2000],'model__base_estimator__max_depth':[3,4,5]},\n",
    "{'model__learning_rate':[0.005],'model__n_estimators':[4000],'model__base_estimator__max_depth':[3,4,5]}]\n",
    "#udah dipasang-pasangin, supaya ga terlalu panjang runningnya"
   ]
  },
  {
   "cell_type": "code",
   "execution_count": 50,
   "id": "approximate-sailing",
   "metadata": {},
   "outputs": [],
   "source": [
    "grid_search = GridSearchCV(\n",
    "                pipe_ada,#model\n",
    "                param_grid = hyperparam_space,#parameter yang ingin dituning\n",
    "                cv = 5,\n",
    "                scoring = 'f1',#metric\n",
    "                n_jobs = -1)"
   ]
  },
  {
   "cell_type": "code",
   "execution_count": 51,
   "id": "waiting-background",
   "metadata": {},
   "outputs": [
    {
     "data": {
      "text/plain": [
       "GridSearchCV(cv=5,\n",
       "             estimator=Pipeline(steps=[('transformer',\n",
       "                                        ColumnTransformer(remainder='passthrough',\n",
       "                                                          transformers=[('one '\n",
       "                                                                         'hot',\n",
       "                                                                         OneHotEncoder(drop='first'),\n",
       "                                                                         ['relationship',\n",
       "                                                                          'race',\n",
       "                                                                          'sex']),\n",
       "                                                                        ('binary',\n",
       "                                                                         Pipeline(steps=[('imputer',\n",
       "                                                                                          SimpleImputer(fill_value='NC',\n",
       "                                                                                                        missing_values='?',\n",
       "                                                                                                        strategy='constant')),\n",
       "                                                                                         ('binary '\n",
       "                                                                                          'encoder',\n",
       "                                                                                          BinaryEncoder())]),\n",
       "                                                                         ['workclass',\n",
       "                                                                          'mari...\n",
       "                          'model__n_estimators': [200]},\n",
       "                         {'model__base_estimator__max_depth': [3, 4, 5],\n",
       "                          'model__learning_rate': [0.05],\n",
       "                          'model__n_estimators': [400]},\n",
       "                         {'model__base_estimator__max_depth': [3, 4, 5],\n",
       "                          'model__learning_rate': [0.01],\n",
       "                          'model__n_estimators': [2000]},\n",
       "                         {'model__base_estimator__max_depth': [3, 4, 5],\n",
       "                          'model__learning_rate': [0.005],\n",
       "                          'model__n_estimators': [4000]}],\n",
       "             scoring='f1')"
      ]
     },
     "execution_count": 51,
     "metadata": {},
     "output_type": "execute_result"
    }
   ],
   "source": [
    "grid_search.fit(x_train,y_train)"
   ]
  },
  {
   "cell_type": "code",
   "execution_count": 52,
   "id": "varying-narrow",
   "metadata": {},
   "outputs": [
    {
     "name": "stdout",
     "output_type": "stream",
     "text": [
      "best_score 0.7073055622952331\n",
      "best_param {'model__base_estimator__max_depth': 4, 'model__learning_rate': 0.1, 'model__n_estimators': 200}\n"
     ]
    }
   ],
   "source": [
    "print('best_score',grid_search.best_score_)\n",
    "print('best_param',grid_search.best_params_)"
   ]
  },
  {
   "cell_type": "markdown",
   "id": "filled-thought",
   "metadata": {},
   "source": [
    "## Final Results Comparison"
   ]
  },
  {
   "cell_type": "code",
   "execution_count": 53,
   "id": "relevant-crack",
   "metadata": {},
   "outputs": [
    {
     "data": {
      "text/plain": [
       "Pipeline(steps=[('transformer',\n",
       "                 ColumnTransformer(remainder='passthrough',\n",
       "                                   transformers=[('one hot',\n",
       "                                                  OneHotEncoder(drop='first'),\n",
       "                                                  ['relationship', 'race',\n",
       "                                                   'sex']),\n",
       "                                                 ('binary',\n",
       "                                                  Pipeline(steps=[('imputer',\n",
       "                                                                   SimpleImputer(fill_value='NC',\n",
       "                                                                                 missing_values='?',\n",
       "                                                                                 strategy='constant')),\n",
       "                                                                  ('binary '\n",
       "                                                                   'encoder',\n",
       "                                                                   BinaryEncoder())]),\n",
       "                                                  ['workclass',\n",
       "                                                   'marital.status',\n",
       "                                                   'occupation',\n",
       "                                                   'native.country'])])),\n",
       "                ('model',\n",
       "                 AdaBoostClassifier(base_estimator=DecisionTreeClassifier(max_depth=3),\n",
       "                                    learning_rate=0.1, n_estimators=200,\n",
       "                                    random_state=10))])"
      ]
     },
     "execution_count": 53,
     "metadata": {},
     "output_type": "execute_result"
    }
   ],
   "source": [
    "tree = DecisionTreeClassifier(max_depth = 3) #harus define decision tree dengan max depth yang dicustom\n",
    "ada = AdaBoostClassifier(tree, n_estimators = 200, learning_rate = 0.1, random_state =10)\n",
    "\n",
    "pipe_ada = Pipeline([\n",
    "    ('transformer',transformer),\n",
    "    ('model',ada)\n",
    "])\n",
    "\n",
    "pipe_ada.fit(x_train,y_train)"
   ]
  },
  {
   "cell_type": "markdown",
   "id": "continuing-chicago",
   "metadata": {},
   "source": [
    "### Before Tuning"
   ]
  },
  {
   "cell_type": "code",
   "execution_count": 54,
   "id": "colonial-tongue",
   "metadata": {},
   "outputs": [
    {
     "name": "stdout",
     "output_type": "stream",
     "text": [
      "              precision    recall  f1-score   support\n",
      "\n",
      "           0       0.89      0.94      0.92      6181\n",
      "           1       0.78      0.63      0.70      1960\n",
      "\n",
      "    accuracy                           0.87      8141\n",
      "   macro avg       0.84      0.79      0.81      8141\n",
      "weighted avg       0.86      0.87      0.86      8141\n",
      "\n"
     ]
    }
   ],
   "source": [
    "y_pred=pipe_ada.predict(x_test)\n",
    "print(classification_report(y_test,y_pred))"
   ]
  },
  {
   "cell_type": "code",
   "execution_count": 55,
   "id": "moved-chest",
   "metadata": {},
   "outputs": [
    {
     "data": {
      "text/plain": [
       "0.6957507082152975"
      ]
     },
     "execution_count": 55,
     "metadata": {},
     "output_type": "execute_result"
    }
   ],
   "source": [
    "f1_score(y_test,y_pred)"
   ]
  },
  {
   "cell_type": "markdown",
   "id": "chubby-impossible",
   "metadata": {},
   "source": [
    "### After Tuning"
   ]
  },
  {
   "cell_type": "code",
   "execution_count": 56,
   "id": "prostate-stationery",
   "metadata": {},
   "outputs": [
    {
     "name": "stdout",
     "output_type": "stream",
     "text": [
      "              precision    recall  f1-score   support\n",
      "\n",
      "           0       0.89      0.94      0.92      6181\n",
      "           1       0.77      0.63      0.70      1960\n",
      "\n",
      "    accuracy                           0.87      8141\n",
      "   macro avg       0.83      0.79      0.81      8141\n",
      "weighted avg       0.86      0.87      0.86      8141\n",
      "\n"
     ]
    }
   ],
   "source": [
    "grid_search.best_estimator_.fit(x_train,y_train)\n",
    "y_pred=grid_search.best_estimator_.predict(x_test)\n",
    "print(classification_report(y_test,y_pred))"
   ]
  },
  {
   "cell_type": "code",
   "execution_count": 57,
   "id": "altered-stopping",
   "metadata": {},
   "outputs": [
    {
     "data": {
      "text/plain": [
       "0.6967995508141493"
      ]
     },
     "execution_count": 57,
     "metadata": {},
     "output_type": "execute_result"
    }
   ],
   "source": [
    "f1_score(y_test,y_pred)"
   ]
  },
  {
   "cell_type": "markdown",
   "id": "freelance-lobby",
   "metadata": {},
   "source": [
    "No significant change from before to after hyperaparameter tuning. Hyperparameter tuning tidak meningkatkan performa model."
   ]
  },
  {
   "cell_type": "code",
   "execution_count": null,
   "id": "postal-group",
   "metadata": {},
   "outputs": [],
   "source": []
  }
 ],
 "metadata": {
  "kernelspec": {
   "display_name": "Python 3",
   "language": "python",
   "name": "python3"
  },
  "language_info": {
   "codemirror_mode": {
    "name": "ipython",
    "version": 3
   },
   "file_extension": ".py",
   "mimetype": "text/x-python",
   "name": "python",
   "nbconvert_exporter": "python",
   "pygments_lexer": "ipython3",
   "version": "3.8.3"
  }
 },
 "nbformat": 4,
 "nbformat_minor": 5
}
